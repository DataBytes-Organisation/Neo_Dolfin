{
 "cells": [
  {
   "cell_type": "markdown",
   "id": "d649dcdf",
   "metadata": {},
   "source": [
    "# Build User Data Analysis Models\n",
    "### Expense Categorisation（code template）"
   ]
  },
  {
   "cell_type": "markdown",
   "id": "47c0073d",
   "metadata": {},
   "source": [
    "#### Import necessary packages"
   ]
  },
  {
   "cell_type": "code",
   "execution_count": 2,
   "id": "b46b92db",
   "metadata": {},
   "outputs": [],
   "source": [
    "import pandas as pd\n",
    "import numpy as np\n",
    "from sklearn.feature_extraction.text import CountVectorizer\n",
    "from sklearn.naive_bayes import MultinomialNB\n",
    "from sklearn.model_selection import train_test_split\n",
    "from sklearn.metrics import accuracy_score"
   ]
  },
  {
   "cell_type": "markdown",
   "id": "c905f51a",
   "metadata": {},
   "source": [
    "#### 1.Data preprocessing"
   ]
  },
  {
   "cell_type": "code",
   "execution_count": null,
   "id": "cf06d904",
   "metadata": {},
   "outputs": [],
   "source": [
    "# Set data file path\n",
    "file_path = '......data.csv'"
   ]
  },
  {
   "cell_type": "code",
   "execution_count": null,
   "id": "61fa415a",
   "metadata": {},
   "outputs": [],
   "source": [
    "# load data\n",
    "df = pd.read_csv(file_path)"
   ]
  },
  {
   "cell_type": "code",
   "execution_count": null,
   "id": "b1a3b8a2",
   "metadata": {},
   "outputs": [],
   "source": [
    "# Remove unnecessary columns\n",
    "df.drop('unnecessary_column', axis=1, inplace=True)\n",
    "\n",
    "# Handling missing values\n",
    "df['subClass_title'].fillna('Unknown', inplace=True)\n",
    "\n",
    "# Fill in mean, median, etc.\n",
    "df['amount'].fillna(df['amount'].mean(), inplace=True)\n",
    "\n"
   ]
  },
  {
   "cell_type": "code",
   "execution_count": null,
   "id": "545a9189",
   "metadata": {},
   "outputs": [],
   "source": [
    "# Convert data type\n",
    "df['date'] = pd.to_datetime(df['date'])\n"
   ]
  },
  {
   "cell_type": "code",
   "execution_count": null,
   "id": "430f0dad",
   "metadata": {},
   "outputs": [],
   "source": [
    "# Create new columns or modify existing columns\n",
    "# For example\n",
    "df['year'] = df['date'].dt.year\n"
   ]
  },
  {
   "cell_type": "code",
   "execution_count": null,
   "id": "a8ac0b7c",
   "metadata": {},
   "outputs": [],
   "source": [
    "# Text data cleaning (preparing for NLP processing)\n",
    "df['description'] = df['description'].str.lower()  # Convert to lowercase\n",
    "df['description'] = df['description'].str.replace('[^\\w\\s]', '')  # Remove special characters\n"
   ]
  },
  {
   "cell_type": "code",
   "execution_count": null,
   "id": "d24bdf1b",
   "metadata": {},
   "outputs": [],
   "source": [
    "# Output the processed data frame header\n",
    "print(df.head())"
   ]
  },
  {
   "cell_type": "markdown",
   "id": "24d87b7d",
   "metadata": {},
   "source": [
    "#### 2.Preliminary classification based on subClass_title"
   ]
  },
  {
   "cell_type": "code",
   "execution_count": null,
   "id": "0e1c0689",
   "metadata": {},
   "outputs": [],
   "source": [
    "# Create a new column 'category' to store the classification results\n",
    "df['category'] = df['subClass_title']\n"
   ]
  },
  {
   "cell_type": "code",
   "execution_count": null,
   "id": "8a81473e",
   "metadata": {},
   "outputs": [],
   "source": [
    "# Optionally classify 'Unknown' as 'Other' if there is an 'Unknown' or NaN value in subClass_title\n",
    "\n",
    "df['category'].replace('Unknown', 'Other', inplace=True)"
   ]
  },
  {
   "cell_type": "code",
   "execution_count": null,
   "id": "cfe87182",
   "metadata": {},
   "outputs": [],
   "source": [
    "# \"Now, a new column 'category' has been added to df,\n",
    "# which contains classification results based on subClass_title（subClass_title contains the predefined classification name）.\n",
    "# Print out some data to check the classification results.\"\n",
    "print(df[['subClass_title', 'category']].head())"
   ]
  },
  {
   "cell_type": "markdown",
   "id": "4bbd9b3f",
   "metadata": {},
   "source": [
    "#### 3.Perform natural language processing on records with missing subClass_title"
   ]
  },
  {
   "cell_type": "code",
   "execution_count": null,
   "id": "4fe1e7c1",
   "metadata": {},
   "outputs": [],
   "source": [
    "# Split the data set into training set and test set\n",
    "X_train, X_test, y_train, y_test = train_test_split(\n",
    "    training_df['description'], training_df['category'], test_size=0.3, random_state=42)\n"
   ]
  },
  {
   "cell_type": "code",
   "execution_count": null,
   "id": "d1a0a860",
   "metadata": {},
   "outputs": [],
   "source": [
    "# Convert text to numeric vector\n",
    "vectorizer = CountVectorizer()\n",
    "X_train_vec = vectorizer.fit_transform(X_train)\n",
    "X_test_vec = vectorizer.transform(X_test)"
   ]
  },
  {
   "cell_type": "code",
   "execution_count": null,
   "id": "497d5ad5",
   "metadata": {},
   "outputs": [],
   "source": [
    "# Train a classification model\n",
    "model = MultinomialNB()\n",
    "model.fit(X_train_vec, y_train)"
   ]
  },
  {
   "cell_type": "code",
   "execution_count": null,
   "id": "0f005820",
   "metadata": {},
   "outputs": [],
   "source": [
    "# Test model performance\n",
    "y_pred = model.predict(X_test_vec)\n",
    "print(f\"Accuracy: {accuracy_score(y_test, y_pred)}\")"
   ]
  },
  {
   "cell_type": "code",
   "execution_count": null,
   "id": "7aa7bf1b",
   "metadata": {},
   "outputs": [],
   "source": [
    "# Use model to classify data with missing subClass_title\n",
    "missing_subclass = df[df['subClass_title'].isna()]\n",
    "descriptions = missing_subclass['description']\n",
    "descriptions_vec = vectorizer.transform(descriptions)\n",
    "predicted_categories = model.predict(descriptions_vec)"
   ]
  },
  {
   "cell_type": "code",
   "execution_count": null,
   "id": "74550c62",
   "metadata": {},
   "outputs": [],
   "source": [
    "# Merge predictions back into original data frame\n",
    "missing_subclass['predicted_category'] = predicted_categories\n",
    "df.update(missing_subclass)"
   ]
  }
 ],
 "metadata": {
  "kernelspec": {
   "display_name": "Python 3 (ipykernel)",
   "language": "python",
   "name": "python3"
  },
  "language_info": {
   "codemirror_mode": {
    "name": "ipython",
    "version": 3
   },
   "file_extension": ".py",
   "mimetype": "text/x-python",
   "name": "python",
   "nbconvert_exporter": "python",
   "pygments_lexer": "ipython3",
   "version": "3.11.5"
  }
 },
 "nbformat": 4,
 "nbformat_minor": 5
}
