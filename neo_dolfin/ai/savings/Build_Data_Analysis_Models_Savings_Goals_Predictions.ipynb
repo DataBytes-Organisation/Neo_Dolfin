{
  "nbformat": 4,
  "nbformat_minor": 0,
  "metadata": {
    "colab": {
      "provenance": []
    },
    "kernelspec": {
      "name": "python3",
      "display_name": "Python 3"
    },
    "language_info": {
      "name": "python"
    }
  },
  "cells": [
    {
      "cell_type": "code",
      "execution_count": 6,
      "metadata": {
        "colab": {
          "base_uri": "https://localhost:8080/"
        },
        "id": "mCFizGRYICKe",
        "outputId": "060f8488-3e77-4f85-c267-f35672fe89d7"
      },
      "outputs": [
        {
          "output_type": "stream",
          "name": "stderr",
          "text": [
            "/usr/local/lib/python3.10/dist-packages/statsmodels/tsa/base/tsa_model.py:473: ValueWarning: A date index has been provided, but it has no associated frequency information and so will be ignored when e.g. forecasting.\n",
            "  self._init_dates(dates, freq)\n",
            "/usr/local/lib/python3.10/dist-packages/statsmodels/tsa/base/tsa_model.py:473: ValueWarning: A date index has been provided, but it has no associated frequency information and so will be ignored when e.g. forecasting.\n",
            "  self._init_dates(dates, freq)\n"
          ]
        },
        {
          "output_type": "stream",
          "name": "stdout",
          "text": [
            "  Time Period       Savings\n",
            "0      1 Week  -5751.519237\n",
            "1     1 Month   5040.588085\n",
            "2    3 Months  15181.871406\n",
            "3    6 Months  28708.481022\n",
            "4   12 Months  60573.039177\n"
          ]
        },
        {
          "output_type": "stream",
          "name": "stderr",
          "text": [
            "/usr/local/lib/python3.10/dist-packages/statsmodels/base/model.py:607: ConvergenceWarning: Maximum Likelihood optimization failed to converge. Check mle_retvals\n",
            "  warnings.warn(\"Maximum Likelihood optimization failed to \"\n",
            "/usr/local/lib/python3.10/dist-packages/statsmodels/tsa/base/tsa_model.py:836: ValueWarning: No supported index is available. Prediction results will be given with an integer index beginning at `start`.\n",
            "  return get_prediction_index(\n",
            "/usr/local/lib/python3.10/dist-packages/statsmodels/tsa/base/tsa_model.py:836: FutureWarning: No supported index is available. In the next version, calling this method in a model without a supported index will result in an exception.\n",
            "  return get_prediction_index(\n"
          ]
        }
      ],
      "source": [
        "import pandas as pd\n",
        "import statsmodels.api as sm\n",
        "from statsmodels.tsa.statespace.sarimax import SARIMAX\n",
        "\n",
        "def process_user_data(q):\n",
        "    # Import all packages and libraries\n",
        "    from statsmodels.tsa.arima.model import ARIMA\n",
        "    import matplotlib.pyplot as plt\n",
        "\n",
        "    # import transaction data - feed user csv into function\n",
        "    def read_transaction_by_Q(q):\n",
        "        transactions = pd.read_csv('user'+q+'.csv')\n",
        "        transactions = transactions.sort_values(by=\"postDate\")\n",
        "        transactions = transactions.reset_index(drop=True)\n",
        "        return transactions\n",
        "\n",
        "    data = read_transaction_by_Q(q)\n",
        "\n",
        "    # Add the new total_balance variable which we will use as our predictor variable\n",
        "    def process_transactions(data):\n",
        "        initial_balance = data.at[0, 'balance']\n",
        "        data.at[0, 'total_balance'] = initial_balance\n",
        "        for index, row in data.iterrows():\n",
        "            if index == 0:\n",
        "                continue\n",
        "            amount = row['amount']\n",
        "            initial_balance += amount\n",
        "            data.at[index, 'total_balance'] = initial_balance\n",
        "        data.insert(7, 'total_balance', data.pop('total_balance'))\n",
        "        return data\n",
        "\n",
        "    data = process_transactions(data)\n",
        "\n",
        "    # Data Preparation\n",
        "    data['postDate'] = pd.to_datetime(data.postDate)\n",
        "    # Keep important columns - postDate and total_balance\n",
        "    model_df = data[['postDate', 'total_balance']]\n",
        "    # Split data into train and test\n",
        "    total_rows = len(model_df)\n",
        "    train_rows = int(0.8 * total_rows)\n",
        "    test_rows = total_rows - train_rows\n",
        "    train_data = model_df.iloc[:train_rows]\n",
        "    test_data = model_df.iloc[train_rows:]\n",
        "    # Set postDate to index in train and test\n",
        "    train_data.set_index('postDate', inplace=True)\n",
        "    test_data.set_index('postDate', inplace=True)\n",
        "\n",
        "    # Use SARIMAX\n",
        "    sa_model = SARIMAX(train_data, order=(2, 1, 2), seasonal_order=(2, 1, 2, 4))\n",
        "    sa_results = sa_model.fit()\n",
        "\n",
        "    # Generate SARIMAX forecasts for the next 365 days\n",
        "    forecast_steps = 365\n",
        "    sa_future = sa_results.get_forecast(steps=forecast_steps)\n",
        "    sa_forecast_values = sa_future.predicted_mean\n",
        "    forecast_index = pd.date_range(start=test_data.index[-1] + pd.DateOffset(days=1), periods=forecast_steps, freq='D')\n",
        "\n",
        "    # Create a DataFrame with postDate and predicted values\n",
        "    predicted_df = pd.DataFrame({'postDate': forecast_index, 'Predicted_Total_Balance': sa_forecast_values})\n",
        "\n",
        "    # Get the last 'total_balance' value from the test_data dataframe\n",
        "    last_balance = test_data['total_balance'].iloc[-1]\n",
        "\n",
        "    # Define the indices for the desired time periods\n",
        "    time_periods = [6, 29, 89, 179, 364]  # 7 days, 30 days, 90 days, 180 days, 365 days\n",
        "\n",
        "    # Empty dictionary to store the results\n",
        "    savings_dict = {}\n",
        "\n",
        "    # Calculate and store the savings for each time period\n",
        "    for i, period in enumerate([\"1 Week\", \"1 Month\", \"3 Months\", \"6 Months\", \"12 Months\"]):\n",
        "        # Get the index for the current time period\n",
        "        period_index = time_periods[i]\n",
        "\n",
        "        # Get the predicted balance at the current time period\n",
        "        predicted_balance = predicted_df['Predicted_Total_Balance'].iloc[period_index]\n",
        "\n",
        "        # Calculate the savings\n",
        "        savings = predicted_balance - last_balance\n",
        "\n",
        "        # Store the savings in the dictionary\n",
        "        savings_dict[period] = savings\n",
        "\n",
        "    # Convert the dictionary to a DataFrame\n",
        "    savings_df = pd.DataFrame(list(savings_dict.items()), columns=['Time Period', 'Savings'])\n",
        "\n",
        "    return savings_df\n",
        "\n",
        "# Example usage:\n",
        "savings_result = process_user_data('1')\n",
        "print(savings_result)\n"
      ]
    }
  ]
}