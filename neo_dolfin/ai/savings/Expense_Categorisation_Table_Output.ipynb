{
  "nbformat": 4,
  "nbformat_minor": 0,
  "metadata": {
    "colab": {
      "provenance": []
    },
    "kernelspec": {
      "name": "python3",
      "display_name": "Python 3"
    },
    "language_info": {
      "name": "python"
    }
  },
  "cells": [
    {
      "cell_type": "code",
      "execution_count": 16,
      "metadata": {
        "colab": {
          "base_uri": "https://localhost:8080/"
        },
        "id": "GARx_SxDiTDq",
        "outputId": "b8df83ab-5596-4bf5-fddf-f9cd9cec6496"
      },
      "outputs": [
        {
          "output_type": "stream",
          "name": "stdout",
          "text": [
            "Expenses by SubClass:\n",
            "                                            Category          Spent\n",
            "0          Auxiliary Finance and Investment Services  AUD 133376.25\n",
            "1  Civic, Professional and Other Interest Group S...  AUD 274595.83\n",
            "2                           Electricity Distribution    AUD 5813.11\n",
            "3                      Legal and Accounting Services    AUD 15500.0\n",
            "4          Other Machinery and Equipment Wholesaling      AUD 36.35\n",
            "5                                Regulatory Services     AUD 1093.7\n",
            "6                                   School Education   AUD 47736.59\n",
            "\n",
            "Expenses by Time Period:\n",
            "1 Week:\n",
            "Empty DataFrame\n",
            "Columns: [subClass_title, amount]\n",
            "Index: []\n",
            "\n",
            "\n",
            "1 Month:\n",
            "                  subClass_title  amount\n",
            "0  Legal and Accounting Services   500.0\n",
            "\n",
            "\n",
            "3 Months:\n",
            "                                      subClass_title    amount\n",
            "0          Auxiliary Finance and Investment Services   7667.50\n",
            "1  Civic, Professional and Other Interest Group S...  18849.50\n",
            "2                           Electricity Distribution    436.00\n",
            "3                      Legal and Accounting Services   1000.00\n",
            "4                                   School Education   2477.75\n",
            "\n",
            "\n",
            "6 Months:\n",
            "                                      subClass_title    amount\n",
            "0          Auxiliary Finance and Investment Services  30380.00\n",
            "1  Civic, Professional and Other Interest Group S...  47067.50\n",
            "2                           Electricity Distribution   1071.60\n",
            "3                      Legal and Accounting Services   2500.00\n",
            "4                                   School Education   6795.35\n",
            "\n",
            "\n"
          ]
        }
      ],
      "source": [
        "import pandas as pd\n",
        "from datetime import datetime, timedelta\n",
        "import pytz\n",
        "\n",
        "# Load user transaction data\n",
        "data = pd.read_csv('user1.csv')\n",
        "\n",
        "# Convert 'postDate' column to datetime\n",
        "data['postDate'] = pd.to_datetime(data['postDate'])\n",
        "\n",
        "# Filter transactions with 'debit' as 'direction' and 'payment' as class\n",
        "expenses = data[(data['amount'] < 0) & (data['class'] == 'payment')]\n",
        "\n",
        "# Define the date range for different time periods - user should be able to select these from a dropdown in the UI\n",
        "today = datetime.now(pytz.utc)\n",
        "one_week_ago = today - timedelta(weeks=1)\n",
        "one_month_ago = today - timedelta(weeks=4)\n",
        "three_months_ago = today - timedelta(weeks=12)\n",
        "six_months_ago = today - timedelta(weeks=24)\n",
        "\n",
        "# Create DataFrames for each time period\n",
        "time_periods = {\n",
        "    '1 Week': one_week_ago,\n",
        "    '1 Month': one_month_ago,\n",
        "    '3 Months': three_months_ago,\n",
        "    '6 Months': six_months_ago\n",
        "}\n",
        "\n",
        "# Create and store DataFrames for each time period\n",
        "time_period_dataframes = {}\n",
        "for period, start_date in time_periods.items():\n",
        "    filtered_data = expenses[expenses['postDate'] >= start_date]\n",
        "    time_period_dataframes[period] = filtered_data.groupby('subClass_title')['amount'].sum().reset_index()\n",
        "\n",
        "# Calculate expenses by 'subClass_title'\n",
        "subclass_title_expenses = expenses.groupby('subClass_title')['amount'].sum().reset_index()\n",
        "\n",
        "# Rename columns to 'Category' and 'Amount Spent'\n",
        "subclass_title_expenses.rename(columns={'subClass_title': 'Category', 'amount': 'Spent'}, inplace=True)\n",
        "\n",
        "# Make the 'Spent' column positive for display purposes\n",
        "subclass_title_expenses['Spent'] = subclass_title_expenses['Spent'].abs()\n",
        "\n",
        "# Add AUD currency symbol to 'Amount Spent' column during printing\n",
        "subclass_title_expenses['Spent'] = 'AUD ' + subclass_title_expenses['Spent'].astype(str)\n",
        "\n",
        "# Print the results for both 'subClass_title' and different time periods\n",
        "print(\"Expenses by SubClass:\")\n",
        "print(subclass_title_expenses)\n",
        "print(\"\\nExpenses by Time Period:\")\n",
        "for period, sub_class_data in time_period_dataframes.items():\n",
        "    print(f\"{period}:\")\n",
        "\n",
        "    # Make the 'Amount Spent' column positive for display purposes\n",
        "    sub_class_data['amount'] = sub_class_data['amount'].abs()\n",
        "\n",
        "    print(sub_class_data)\n",
        "    print(\"\\n\")"
      ]
    }
  ]
}