{
 "cells": [
  {
   "cell_type": "code",
   "execution_count": 9,
   "metadata": {},
   "outputs": [],
   "source": [
    "import numpy as np\n",
    "import pandas as pd\n",
    "from statsmodels.tsa.arima.model import ARIMA\n",
    "import matplotlib.pyplot as plt\n",
    "from scipy.stats import norm\n",
    "\n"
   ]
  },
  {
   "cell_type": "code",
   "execution_count": 10,
   "metadata": {},
   "outputs": [],
   "source": [
    "df = pd.read_csv(\"../../static/transaction_ut.csv\")"
   ]
  },
  {
   "cell_type": "code",
   "execution_count": 11,
   "metadata": {},
   "outputs": [
    {
     "data": {
      "text/html": [
       "<div>\n",
       "<style scoped>\n",
       "    .dataframe tbody tr th:only-of-type {\n",
       "        vertical-align: middle;\n",
       "    }\n",
       "\n",
       "    .dataframe tbody tr th {\n",
       "        vertical-align: top;\n",
       "    }\n",
       "\n",
       "    .dataframe thead th {\n",
       "        text-align: right;\n",
       "    }\n",
       "</style>\n",
       "<table border=\"1\" class=\"dataframe\">\n",
       "  <thead>\n",
       "    <tr style=\"text-align: right;\">\n",
       "      <th></th>\n",
       "      <th>type</th>\n",
       "      <th>id</th>\n",
       "      <th>status</th>\n",
       "      <th>description</th>\n",
       "      <th>amount</th>\n",
       "      <th>account</th>\n",
       "      <th>balance</th>\n",
       "      <th>direction</th>\n",
       "      <th>class</th>\n",
       "      <th>institution</th>\n",
       "      <th>connection</th>\n",
       "      <th>enrich</th>\n",
       "      <th>transactionDate</th>\n",
       "      <th>postDate</th>\n",
       "      <th>subClass</th>\n",
       "      <th>links</th>\n",
       "    </tr>\n",
       "  </thead>\n",
       "  <tbody>\n",
       "    <tr>\n",
       "      <th>0</th>\n",
       "      <td>transaction</td>\n",
       "      <td>4957bcf6-f18f-43d7-94df-71f44a0bcf32</td>\n",
       "      <td>posted</td>\n",
       "      <td>Wdl ATM WES IGA BALGOWLAH HGT  BALGOWL        AU</td>\n",
       "      <td>-200.0</td>\n",
       "      <td>d3de1ca1</td>\n",
       "      <td>22109.56</td>\n",
       "      <td>debit</td>\n",
       "      <td>cash-withdrawal</td>\n",
       "      <td>AU00000</td>\n",
       "      <td>1bd6c08e-8457-4a74-bdd9-514df489d27e</td>\n",
       "      <td>NaN</td>\n",
       "      <td>3/08/2023</td>\n",
       "      <td>2023-08-03T00:07:36</td>\n",
       "      <td>NaN</td>\n",
       "      <td>{\"account\":\"https://au-api.basiq.io/users/6a52...</td>\n",
       "    </tr>\n",
       "    <tr>\n",
       "      <th>1</th>\n",
       "      <td>transaction</td>\n",
       "      <td>0d6e11ab-e28e-4de0-a152-600cc44fb61c</td>\n",
       "      <td>posted</td>\n",
       "      <td>Non Hooli ATM Withdrawal Fee</td>\n",
       "      <td>-2.5</td>\n",
       "      <td>070c1d68-0ee0-477a-9679-294ea7059939</td>\n",
       "      <td>22309.56</td>\n",
       "      <td>debit</td>\n",
       "      <td>bank-fee</td>\n",
       "      <td>AU00000</td>\n",
       "      <td>1bd6c08e-8457-4a74-bdd9-514df489d27e</td>\n",
       "      <td>NaN</td>\n",
       "      <td>3/08/2023</td>\n",
       "      <td>2023-08-03T00:00:00Z</td>\n",
       "      <td>{\\title\\\":\\\"\\\"</td>\n",
       "      <td>\\\"code\\\":\\\"card\\\"}\"</td>\n",
       "    </tr>\n",
       "    <tr>\n",
       "      <th>2</th>\n",
       "      <td>transaction</td>\n",
       "      <td>323f6d42-a38e-4c46-83d2-6c8f3e999686</td>\n",
       "      <td>posted</td>\n",
       "      <td>Wdl ATM WES IGA BALGOWLAH HGT  BALGOWL        AU</td>\n",
       "      <td>-200.0</td>\n",
       "      <td>070c1d68-0ee0-477a-9679-294ea7059939</td>\n",
       "      <td>22312.06</td>\n",
       "      <td>debit</td>\n",
       "      <td>cash-withdrawal</td>\n",
       "      <td>AU00000</td>\n",
       "      <td>1bd6c08e-8457-4a74-bdd9-514df489d27e</td>\n",
       "      <td>NaN</td>\n",
       "      <td>3/08/2023</td>\n",
       "      <td>2023-08-03T00:00:00Z</td>\n",
       "      <td>NaN</td>\n",
       "      <td>{\\self\\\":\\\"https://au-api.basiq.io/users/bca4b...</td>\n",
       "    </tr>\n",
       "    <tr>\n",
       "      <th>3</th>\n",
       "      <td>transaction</td>\n",
       "      <td>1ab3a3c5-faeb-4de3-b5aa-612e5bc76fd5</td>\n",
       "      <td>posted</td>\n",
       "      <td>Non Hooli ATM Withdrawal Fee</td>\n",
       "      <td>-2.5</td>\n",
       "      <td>070c1d68-0ee0-477a-9679-294ea7059939</td>\n",
       "      <td>22512.06</td>\n",
       "      <td>debit</td>\n",
       "      <td>bank-fee</td>\n",
       "      <td>AU00000</td>\n",
       "      <td>1bd6c08e-8457-4a74-bdd9-514df489d27e</td>\n",
       "      <td>NaN</td>\n",
       "      <td>3/08/2023</td>\n",
       "      <td>2023-08-03T00:00:00Z</td>\n",
       "      <td>{\\title\\\":\\\"\\\"</td>\n",
       "      <td>\\\"code\\\":\\\"card\\\"}\"</td>\n",
       "    </tr>\n",
       "    <tr>\n",
       "      <th>4</th>\n",
       "      <td>transaction</td>\n",
       "      <td>d12df6a2-48b6-4f5f-a718-ccb377aa330c</td>\n",
       "      <td>posted</td>\n",
       "      <td>Transfer Platnm Homeloan 346454</td>\n",
       "      <td>-3852.5</td>\n",
       "      <td>070c1d68-0ee0-477a-9679-294ea7059939</td>\n",
       "      <td>22514.56</td>\n",
       "      <td>debit</td>\n",
       "      <td>payment</td>\n",
       "      <td>AU00000</td>\n",
       "      <td>1bd6c08e-8457-4a74-bdd9-514df489d27e</td>\n",
       "      <td>NaN</td>\n",
       "      <td>29/07/2023</td>\n",
       "      <td>2023-07-29T00:00:00Z</td>\n",
       "      <td>{\\title\\\":\\\"Auxiliary Finance and Investment S...</td>\n",
       "      <td>\\\"code\\\":\\\"641\\\"}\"</td>\n",
       "    </tr>\n",
       "    <tr>\n",
       "      <th>...</th>\n",
       "      <td>...</td>\n",
       "      <td>...</td>\n",
       "      <td>...</td>\n",
       "      <td>...</td>\n",
       "      <td>...</td>\n",
       "      <td>...</td>\n",
       "      <td>...</td>\n",
       "      <td>...</td>\n",
       "      <td>...</td>\n",
       "      <td>...</td>\n",
       "      <td>...</td>\n",
       "      <td>...</td>\n",
       "      <td>...</td>\n",
       "      <td>...</td>\n",
       "      <td>...</td>\n",
       "      <td>...</td>\n",
       "    </tr>\n",
       "    <tr>\n",
       "      <th>284</th>\n",
       "      <td>transaction</td>\n",
       "      <td>5b20b38e-6c98-4bfc-97bc-7c9ea2ccc983</td>\n",
       "      <td>posted</td>\n",
       "      <td>Manly Maths Tutor Wages</td>\n",
       "      <td>201.0</td>\n",
       "      <td>070c1d68-0ee0-477a-9679-294ea7059939</td>\n",
       "      <td>-357.34</td>\n",
       "      <td>credit</td>\n",
       "      <td>transfer</td>\n",
       "      <td>AU00000</td>\n",
       "      <td>1bd6c08e-8457-4a74-bdd9-514df489d27e</td>\n",
       "      <td>NaN</td>\n",
       "      <td>26/12/2021</td>\n",
       "      <td>2021-12-16T00:00:00Z</td>\n",
       "      <td>{\\title\\\":\\\"Educational Support Services\\\"</td>\n",
       "      <td>\\\"code\\\":\\\"822\\\"}\"</td>\n",
       "    </tr>\n",
       "    <tr>\n",
       "      <th>285</th>\n",
       "      <td>transaction</td>\n",
       "      <td>1973ec3d-7680-45dd-ac2e-e1eb97c97ea3</td>\n",
       "      <td>posted</td>\n",
       "      <td>Manly Maths Tutor Wages</td>\n",
       "      <td>201.0</td>\n",
       "      <td>070c1d68-0ee0-477a-9679-294ea7059939</td>\n",
       "      <td>-558.34</td>\n",
       "      <td>credit</td>\n",
       "      <td>transfer</td>\n",
       "      <td>AU00000</td>\n",
       "      <td>1bd6c08e-8457-4a74-bdd9-514df489d27e</td>\n",
       "      <td>NaN</td>\n",
       "      <td>14/12/2021</td>\n",
       "      <td>2021-12-14T00:00:00Z</td>\n",
       "      <td>{\\title\\\":\\\"Educational Support Services\\\"</td>\n",
       "      <td>\\\"code\\\":\\\"822\\\"}\"</td>\n",
       "    </tr>\n",
       "    <tr>\n",
       "      <th>286</th>\n",
       "      <td>transaction</td>\n",
       "      <td>8598b570-b80f-42a6-9a52-e73425b3ccd0</td>\n",
       "      <td>posted</td>\n",
       "      <td>TFR Acc14000 TO 12389</td>\n",
       "      <td>-500.0</td>\n",
       "      <td>070c1d68-0ee0-477a-9679-294ea7059939</td>\n",
       "      <td>-759.34</td>\n",
       "      <td>debit</td>\n",
       "      <td>payment</td>\n",
       "      <td>AU00000</td>\n",
       "      <td>1bd6c08e-8457-4a74-bdd9-514df489d27e</td>\n",
       "      <td>NaN</td>\n",
       "      <td>13/12/2021</td>\n",
       "      <td>2021-12-13T00:00:00Z</td>\n",
       "      <td>{\\title\\\":\\\"Legal and Accounting Services\\\"</td>\n",
       "      <td>\\\"code\\\":\\\"693\\\"}\"</td>\n",
       "    </tr>\n",
       "    <tr>\n",
       "      <th>287</th>\n",
       "      <td>transaction</td>\n",
       "      <td>414279bc-9226-45c5-9722-b18269374373</td>\n",
       "      <td>posted</td>\n",
       "      <td>AGL RETAIL ENERGY LTD (GAS)</td>\n",
       "      <td>-160.0</td>\n",
       "      <td>070c1d68-0ee0-477a-9679-294ea7059939</td>\n",
       "      <td>-259.34</td>\n",
       "      <td>debit</td>\n",
       "      <td>payment</td>\n",
       "      <td>AU00000</td>\n",
       "      <td>1bd6c08e-8457-4a74-bdd9-514df489d27e</td>\n",
       "      <td>NaN</td>\n",
       "      <td>10/12/2021</td>\n",
       "      <td>2021-12-10T00:00:00Z</td>\n",
       "      <td>{\\title\\\":\\\"Electricity Distribution\\\"</td>\n",
       "      <td>\\\"code\\\":\\\"263\\\"}\"</td>\n",
       "    </tr>\n",
       "    <tr>\n",
       "      <th>288</th>\n",
       "      <td>transaction</td>\n",
       "      <td>312885c2-6ff6-4d96-89c9-0bf1b2987f46</td>\n",
       "      <td>posted</td>\n",
       "      <td>AGL RETAIL ENERGY LTD (GAS)</td>\n",
       "      <td>-92.0</td>\n",
       "      <td>070c1d68-0ee0-477a-9679-294ea7059939</td>\n",
       "      <td>-99.34</td>\n",
       "      <td>debit</td>\n",
       "      <td>payment</td>\n",
       "      <td>AU00000</td>\n",
       "      <td>1bd6c08e-8457-4a74-bdd9-514df489d27e</td>\n",
       "      <td>NaN</td>\n",
       "      <td>10/12/2021</td>\n",
       "      <td>2021-12-10T00:00:00Z</td>\n",
       "      <td>{\\title\\\":\\\"Electricity Distribution\\\"</td>\n",
       "      <td>\\\"code\\\":\\\"263\\\"}\"</td>\n",
       "    </tr>\n",
       "  </tbody>\n",
       "</table>\n",
       "<p>289 rows × 16 columns</p>\n",
       "</div>"
      ],
      "text/plain": [
       "            type                                    id  status  \\\n",
       "0    transaction  4957bcf6-f18f-43d7-94df-71f44a0bcf32  posted   \n",
       "1    transaction  0d6e11ab-e28e-4de0-a152-600cc44fb61c  posted   \n",
       "2    transaction  323f6d42-a38e-4c46-83d2-6c8f3e999686  posted   \n",
       "3    transaction  1ab3a3c5-faeb-4de3-b5aa-612e5bc76fd5  posted   \n",
       "4    transaction  d12df6a2-48b6-4f5f-a718-ccb377aa330c  posted   \n",
       "..           ...                                   ...     ...   \n",
       "284  transaction  5b20b38e-6c98-4bfc-97bc-7c9ea2ccc983  posted   \n",
       "285  transaction  1973ec3d-7680-45dd-ac2e-e1eb97c97ea3  posted   \n",
       "286  transaction  8598b570-b80f-42a6-9a52-e73425b3ccd0  posted   \n",
       "287  transaction  414279bc-9226-45c5-9722-b18269374373  posted   \n",
       "288  transaction  312885c2-6ff6-4d96-89c9-0bf1b2987f46  posted   \n",
       "\n",
       "                                          description  amount  \\\n",
       "0    Wdl ATM WES IGA BALGOWLAH HGT  BALGOWL        AU  -200.0   \n",
       "1                        Non Hooli ATM Withdrawal Fee    -2.5   \n",
       "2    Wdl ATM WES IGA BALGOWLAH HGT  BALGOWL        AU  -200.0   \n",
       "3                        Non Hooli ATM Withdrawal Fee    -2.5   \n",
       "4                     Transfer Platnm Homeloan 346454 -3852.5   \n",
       "..                                                ...     ...   \n",
       "284                           Manly Maths Tutor Wages   201.0   \n",
       "285                           Manly Maths Tutor Wages   201.0   \n",
       "286                             TFR Acc14000 TO 12389  -500.0   \n",
       "287                       AGL RETAIL ENERGY LTD (GAS)  -160.0   \n",
       "288                       AGL RETAIL ENERGY LTD (GAS)   -92.0   \n",
       "\n",
       "                                  account   balance direction  \\\n",
       "0                                d3de1ca1  22109.56     debit   \n",
       "1    070c1d68-0ee0-477a-9679-294ea7059939  22309.56     debit   \n",
       "2    070c1d68-0ee0-477a-9679-294ea7059939  22312.06     debit   \n",
       "3    070c1d68-0ee0-477a-9679-294ea7059939  22512.06     debit   \n",
       "4    070c1d68-0ee0-477a-9679-294ea7059939  22514.56     debit   \n",
       "..                                    ...       ...       ...   \n",
       "284  070c1d68-0ee0-477a-9679-294ea7059939   -357.34    credit   \n",
       "285  070c1d68-0ee0-477a-9679-294ea7059939   -558.34    credit   \n",
       "286  070c1d68-0ee0-477a-9679-294ea7059939   -759.34     debit   \n",
       "287  070c1d68-0ee0-477a-9679-294ea7059939   -259.34     debit   \n",
       "288  070c1d68-0ee0-477a-9679-294ea7059939    -99.34     debit   \n",
       "\n",
       "               class institution                            connection  \\\n",
       "0    cash-withdrawal     AU00000  1bd6c08e-8457-4a74-bdd9-514df489d27e   \n",
       "1           bank-fee     AU00000  1bd6c08e-8457-4a74-bdd9-514df489d27e   \n",
       "2    cash-withdrawal     AU00000  1bd6c08e-8457-4a74-bdd9-514df489d27e   \n",
       "3           bank-fee     AU00000  1bd6c08e-8457-4a74-bdd9-514df489d27e   \n",
       "4            payment     AU00000  1bd6c08e-8457-4a74-bdd9-514df489d27e   \n",
       "..               ...         ...                                   ...   \n",
       "284         transfer     AU00000  1bd6c08e-8457-4a74-bdd9-514df489d27e   \n",
       "285         transfer     AU00000  1bd6c08e-8457-4a74-bdd9-514df489d27e   \n",
       "286          payment     AU00000  1bd6c08e-8457-4a74-bdd9-514df489d27e   \n",
       "287          payment     AU00000  1bd6c08e-8457-4a74-bdd9-514df489d27e   \n",
       "288          payment     AU00000  1bd6c08e-8457-4a74-bdd9-514df489d27e   \n",
       "\n",
       "     enrich transactionDate              postDate  \\\n",
       "0       NaN       3/08/2023   2023-08-03T00:07:36   \n",
       "1       NaN       3/08/2023  2023-08-03T00:00:00Z   \n",
       "2       NaN       3/08/2023  2023-08-03T00:00:00Z   \n",
       "3       NaN       3/08/2023  2023-08-03T00:00:00Z   \n",
       "4       NaN      29/07/2023  2023-07-29T00:00:00Z   \n",
       "..      ...             ...                   ...   \n",
       "284     NaN      26/12/2021  2021-12-16T00:00:00Z   \n",
       "285     NaN      14/12/2021  2021-12-14T00:00:00Z   \n",
       "286     NaN      13/12/2021  2021-12-13T00:00:00Z   \n",
       "287     NaN      10/12/2021  2021-12-10T00:00:00Z   \n",
       "288     NaN      10/12/2021  2021-12-10T00:00:00Z   \n",
       "\n",
       "                                              subClass  \\\n",
       "0                                                  NaN   \n",
       "1                                       {\\title\\\":\\\"\\\"   \n",
       "2                                                  NaN   \n",
       "3                                       {\\title\\\":\\\"\\\"   \n",
       "4    {\\title\\\":\\\"Auxiliary Finance and Investment S...   \n",
       "..                                                 ...   \n",
       "284         {\\title\\\":\\\"Educational Support Services\\\"   \n",
       "285         {\\title\\\":\\\"Educational Support Services\\\"   \n",
       "286        {\\title\\\":\\\"Legal and Accounting Services\\\"   \n",
       "287             {\\title\\\":\\\"Electricity Distribution\\\"   \n",
       "288             {\\title\\\":\\\"Electricity Distribution\\\"   \n",
       "\n",
       "                                                 links  \n",
       "0    {\"account\":\"https://au-api.basiq.io/users/6a52...  \n",
       "1                                  \\\"code\\\":\\\"card\\\"}\"  \n",
       "2    {\\self\\\":\\\"https://au-api.basiq.io/users/bca4b...  \n",
       "3                                  \\\"code\\\":\\\"card\\\"}\"  \n",
       "4                                   \\\"code\\\":\\\"641\\\"}\"  \n",
       "..                                                 ...  \n",
       "284                                 \\\"code\\\":\\\"822\\\"}\"  \n",
       "285                                 \\\"code\\\":\\\"822\\\"}\"  \n",
       "286                                 \\\"code\\\":\\\"693\\\"}\"  \n",
       "287                                 \\\"code\\\":\\\"263\\\"}\"  \n",
       "288                                 \\\"code\\\":\\\"263\\\"}\"  \n",
       "\n",
       "[289 rows x 16 columns]"
      ]
     },
     "execution_count": 11,
     "metadata": {},
     "output_type": "execute_result"
    }
   ],
   "source": [
    "df"
   ]
  },
  {
   "cell_type": "code",
   "execution_count": 12,
   "metadata": {},
   "outputs": [],
   "source": [
    "df = df.sort_values(by=\"postDate\")\n",
    "# Remove the \"Z\" from the datetime strings\n",
    "df[\"postDate\"] = df[\"postDate\"].str.replace(\"Z\", \"\")\n",
    "\n",
    "# Convert to datetime with the correct format\n",
    "df[\"postDate\"] = pd.to_datetime(df[\"postDate\"], format=\"%Y-%m-%dT%H:%M:%S\")\n",
    "\n",
    "# Extract Year, Month, Day, Hour, Minute, and Second\n",
    "df[\"Year\"] = df[\"postDate\"].dt.year\n",
    "df[\"Month\"] = df[\"postDate\"].dt.month\n",
    "df[\"Day\"] = df[\"postDate\"].dt.day\n",
    "df[\"Hour\"] = df[\"postDate\"].dt.hour\n",
    "df[\"Minute\"] = df[\"postDate\"].dt.minute\n",
    "df[\"Second\"] = df[\"postDate\"].dt.second"
   ]
  },
  {
   "cell_type": "code",
   "execution_count": 13,
   "metadata": {},
   "outputs": [
    {
     "data": {
      "text/html": [
       "<div>\n",
       "<style scoped>\n",
       "    .dataframe tbody tr th:only-of-type {\n",
       "        vertical-align: middle;\n",
       "    }\n",
       "\n",
       "    .dataframe tbody tr th {\n",
       "        vertical-align: top;\n",
       "    }\n",
       "\n",
       "    .dataframe thead th {\n",
       "        text-align: right;\n",
       "    }\n",
       "</style>\n",
       "<table border=\"1\" class=\"dataframe\">\n",
       "  <thead>\n",
       "    <tr style=\"text-align: right;\">\n",
       "      <th></th>\n",
       "      <th>type</th>\n",
       "      <th>id</th>\n",
       "      <th>status</th>\n",
       "      <th>description</th>\n",
       "      <th>amount</th>\n",
       "      <th>account</th>\n",
       "      <th>balance</th>\n",
       "      <th>direction</th>\n",
       "      <th>class</th>\n",
       "      <th>institution</th>\n",
       "      <th>...</th>\n",
       "      <th>transactionDate</th>\n",
       "      <th>postDate</th>\n",
       "      <th>subClass</th>\n",
       "      <th>links</th>\n",
       "      <th>Year</th>\n",
       "      <th>Month</th>\n",
       "      <th>Day</th>\n",
       "      <th>Hour</th>\n",
       "      <th>Minute</th>\n",
       "      <th>Second</th>\n",
       "    </tr>\n",
       "  </thead>\n",
       "  <tbody>\n",
       "    <tr>\n",
       "      <th>288</th>\n",
       "      <td>transaction</td>\n",
       "      <td>312885c2-6ff6-4d96-89c9-0bf1b2987f46</td>\n",
       "      <td>posted</td>\n",
       "      <td>AGL RETAIL ENERGY LTD (GAS)</td>\n",
       "      <td>-92.0</td>\n",
       "      <td>070c1d68-0ee0-477a-9679-294ea7059939</td>\n",
       "      <td>-99.34</td>\n",
       "      <td>debit</td>\n",
       "      <td>payment</td>\n",
       "      <td>AU00000</td>\n",
       "      <td>...</td>\n",
       "      <td>10/12/2021</td>\n",
       "      <td>2021-12-10 00:00:00</td>\n",
       "      <td>{\\title\\\":\\\"Electricity Distribution\\\"</td>\n",
       "      <td>\\\"code\\\":\\\"263\\\"}\"</td>\n",
       "      <td>2021</td>\n",
       "      <td>12</td>\n",
       "      <td>10</td>\n",
       "      <td>0</td>\n",
       "      <td>0</td>\n",
       "      <td>0</td>\n",
       "    </tr>\n",
       "    <tr>\n",
       "      <th>287</th>\n",
       "      <td>transaction</td>\n",
       "      <td>414279bc-9226-45c5-9722-b18269374373</td>\n",
       "      <td>posted</td>\n",
       "      <td>AGL RETAIL ENERGY LTD (GAS)</td>\n",
       "      <td>-160.0</td>\n",
       "      <td>070c1d68-0ee0-477a-9679-294ea7059939</td>\n",
       "      <td>-259.34</td>\n",
       "      <td>debit</td>\n",
       "      <td>payment</td>\n",
       "      <td>AU00000</td>\n",
       "      <td>...</td>\n",
       "      <td>10/12/2021</td>\n",
       "      <td>2021-12-10 00:00:00</td>\n",
       "      <td>{\\title\\\":\\\"Electricity Distribution\\\"</td>\n",
       "      <td>\\\"code\\\":\\\"263\\\"}\"</td>\n",
       "      <td>2021</td>\n",
       "      <td>12</td>\n",
       "      <td>10</td>\n",
       "      <td>0</td>\n",
       "      <td>0</td>\n",
       "      <td>0</td>\n",
       "    </tr>\n",
       "    <tr>\n",
       "      <th>286</th>\n",
       "      <td>transaction</td>\n",
       "      <td>8598b570-b80f-42a6-9a52-e73425b3ccd0</td>\n",
       "      <td>posted</td>\n",
       "      <td>TFR Acc14000 TO 12389</td>\n",
       "      <td>-500.0</td>\n",
       "      <td>070c1d68-0ee0-477a-9679-294ea7059939</td>\n",
       "      <td>-759.34</td>\n",
       "      <td>debit</td>\n",
       "      <td>payment</td>\n",
       "      <td>AU00000</td>\n",
       "      <td>...</td>\n",
       "      <td>13/12/2021</td>\n",
       "      <td>2021-12-13 00:00:00</td>\n",
       "      <td>{\\title\\\":\\\"Legal and Accounting Services\\\"</td>\n",
       "      <td>\\\"code\\\":\\\"693\\\"}\"</td>\n",
       "      <td>2021</td>\n",
       "      <td>12</td>\n",
       "      <td>13</td>\n",
       "      <td>0</td>\n",
       "      <td>0</td>\n",
       "      <td>0</td>\n",
       "    </tr>\n",
       "    <tr>\n",
       "      <th>285</th>\n",
       "      <td>transaction</td>\n",
       "      <td>1973ec3d-7680-45dd-ac2e-e1eb97c97ea3</td>\n",
       "      <td>posted</td>\n",
       "      <td>Manly Maths Tutor Wages</td>\n",
       "      <td>201.0</td>\n",
       "      <td>070c1d68-0ee0-477a-9679-294ea7059939</td>\n",
       "      <td>-558.34</td>\n",
       "      <td>credit</td>\n",
       "      <td>transfer</td>\n",
       "      <td>AU00000</td>\n",
       "      <td>...</td>\n",
       "      <td>14/12/2021</td>\n",
       "      <td>2021-12-14 00:00:00</td>\n",
       "      <td>{\\title\\\":\\\"Educational Support Services\\\"</td>\n",
       "      <td>\\\"code\\\":\\\"822\\\"}\"</td>\n",
       "      <td>2021</td>\n",
       "      <td>12</td>\n",
       "      <td>14</td>\n",
       "      <td>0</td>\n",
       "      <td>0</td>\n",
       "      <td>0</td>\n",
       "    </tr>\n",
       "    <tr>\n",
       "      <th>284</th>\n",
       "      <td>transaction</td>\n",
       "      <td>5b20b38e-6c98-4bfc-97bc-7c9ea2ccc983</td>\n",
       "      <td>posted</td>\n",
       "      <td>Manly Maths Tutor Wages</td>\n",
       "      <td>201.0</td>\n",
       "      <td>070c1d68-0ee0-477a-9679-294ea7059939</td>\n",
       "      <td>-357.34</td>\n",
       "      <td>credit</td>\n",
       "      <td>transfer</td>\n",
       "      <td>AU00000</td>\n",
       "      <td>...</td>\n",
       "      <td>26/12/2021</td>\n",
       "      <td>2021-12-16 00:00:00</td>\n",
       "      <td>{\\title\\\":\\\"Educational Support Services\\\"</td>\n",
       "      <td>\\\"code\\\":\\\"822\\\"}\"</td>\n",
       "      <td>2021</td>\n",
       "      <td>12</td>\n",
       "      <td>16</td>\n",
       "      <td>0</td>\n",
       "      <td>0</td>\n",
       "      <td>0</td>\n",
       "    </tr>\n",
       "    <tr>\n",
       "      <th>...</th>\n",
       "      <td>...</td>\n",
       "      <td>...</td>\n",
       "      <td>...</td>\n",
       "      <td>...</td>\n",
       "      <td>...</td>\n",
       "      <td>...</td>\n",
       "      <td>...</td>\n",
       "      <td>...</td>\n",
       "      <td>...</td>\n",
       "      <td>...</td>\n",
       "      <td>...</td>\n",
       "      <td>...</td>\n",
       "      <td>...</td>\n",
       "      <td>...</td>\n",
       "      <td>...</td>\n",
       "      <td>...</td>\n",
       "      <td>...</td>\n",
       "      <td>...</td>\n",
       "      <td>...</td>\n",
       "      <td>...</td>\n",
       "      <td>...</td>\n",
       "    </tr>\n",
       "    <tr>\n",
       "      <th>4</th>\n",
       "      <td>transaction</td>\n",
       "      <td>d12df6a2-48b6-4f5f-a718-ccb377aa330c</td>\n",
       "      <td>posted</td>\n",
       "      <td>Transfer Platnm Homeloan 346454</td>\n",
       "      <td>-3852.5</td>\n",
       "      <td>070c1d68-0ee0-477a-9679-294ea7059939</td>\n",
       "      <td>22514.56</td>\n",
       "      <td>debit</td>\n",
       "      <td>payment</td>\n",
       "      <td>AU00000</td>\n",
       "      <td>...</td>\n",
       "      <td>29/07/2023</td>\n",
       "      <td>2023-07-29 00:00:00</td>\n",
       "      <td>{\\title\\\":\\\"Auxiliary Finance and Investment S...</td>\n",
       "      <td>\\\"code\\\":\\\"641\\\"}\"</td>\n",
       "      <td>2023</td>\n",
       "      <td>7</td>\n",
       "      <td>29</td>\n",
       "      <td>0</td>\n",
       "      <td>0</td>\n",
       "      <td>0</td>\n",
       "    </tr>\n",
       "    <tr>\n",
       "      <th>3</th>\n",
       "      <td>transaction</td>\n",
       "      <td>1ab3a3c5-faeb-4de3-b5aa-612e5bc76fd5</td>\n",
       "      <td>posted</td>\n",
       "      <td>Non Hooli ATM Withdrawal Fee</td>\n",
       "      <td>-2.5</td>\n",
       "      <td>070c1d68-0ee0-477a-9679-294ea7059939</td>\n",
       "      <td>22512.06</td>\n",
       "      <td>debit</td>\n",
       "      <td>bank-fee</td>\n",
       "      <td>AU00000</td>\n",
       "      <td>...</td>\n",
       "      <td>3/08/2023</td>\n",
       "      <td>2023-08-03 00:00:00</td>\n",
       "      <td>{\\title\\\":\\\"\\\"</td>\n",
       "      <td>\\\"code\\\":\\\"card\\\"}\"</td>\n",
       "      <td>2023</td>\n",
       "      <td>8</td>\n",
       "      <td>3</td>\n",
       "      <td>0</td>\n",
       "      <td>0</td>\n",
       "      <td>0</td>\n",
       "    </tr>\n",
       "    <tr>\n",
       "      <th>2</th>\n",
       "      <td>transaction</td>\n",
       "      <td>323f6d42-a38e-4c46-83d2-6c8f3e999686</td>\n",
       "      <td>posted</td>\n",
       "      <td>Wdl ATM WES IGA BALGOWLAH HGT  BALGOWL        AU</td>\n",
       "      <td>-200.0</td>\n",
       "      <td>070c1d68-0ee0-477a-9679-294ea7059939</td>\n",
       "      <td>22312.06</td>\n",
       "      <td>debit</td>\n",
       "      <td>cash-withdrawal</td>\n",
       "      <td>AU00000</td>\n",
       "      <td>...</td>\n",
       "      <td>3/08/2023</td>\n",
       "      <td>2023-08-03 00:00:00</td>\n",
       "      <td>NaN</td>\n",
       "      <td>{\\self\\\":\\\"https://au-api.basiq.io/users/bca4b...</td>\n",
       "      <td>2023</td>\n",
       "      <td>8</td>\n",
       "      <td>3</td>\n",
       "      <td>0</td>\n",
       "      <td>0</td>\n",
       "      <td>0</td>\n",
       "    </tr>\n",
       "    <tr>\n",
       "      <th>1</th>\n",
       "      <td>transaction</td>\n",
       "      <td>0d6e11ab-e28e-4de0-a152-600cc44fb61c</td>\n",
       "      <td>posted</td>\n",
       "      <td>Non Hooli ATM Withdrawal Fee</td>\n",
       "      <td>-2.5</td>\n",
       "      <td>070c1d68-0ee0-477a-9679-294ea7059939</td>\n",
       "      <td>22309.56</td>\n",
       "      <td>debit</td>\n",
       "      <td>bank-fee</td>\n",
       "      <td>AU00000</td>\n",
       "      <td>...</td>\n",
       "      <td>3/08/2023</td>\n",
       "      <td>2023-08-03 00:00:00</td>\n",
       "      <td>{\\title\\\":\\\"\\\"</td>\n",
       "      <td>\\\"code\\\":\\\"card\\\"}\"</td>\n",
       "      <td>2023</td>\n",
       "      <td>8</td>\n",
       "      <td>3</td>\n",
       "      <td>0</td>\n",
       "      <td>0</td>\n",
       "      <td>0</td>\n",
       "    </tr>\n",
       "    <tr>\n",
       "      <th>0</th>\n",
       "      <td>transaction</td>\n",
       "      <td>4957bcf6-f18f-43d7-94df-71f44a0bcf32</td>\n",
       "      <td>posted</td>\n",
       "      <td>Wdl ATM WES IGA BALGOWLAH HGT  BALGOWL        AU</td>\n",
       "      <td>-200.0</td>\n",
       "      <td>d3de1ca1</td>\n",
       "      <td>22109.56</td>\n",
       "      <td>debit</td>\n",
       "      <td>cash-withdrawal</td>\n",
       "      <td>AU00000</td>\n",
       "      <td>...</td>\n",
       "      <td>3/08/2023</td>\n",
       "      <td>2023-08-03 00:07:36</td>\n",
       "      <td>NaN</td>\n",
       "      <td>{\"account\":\"https://au-api.basiq.io/users/6a52...</td>\n",
       "      <td>2023</td>\n",
       "      <td>8</td>\n",
       "      <td>3</td>\n",
       "      <td>0</td>\n",
       "      <td>7</td>\n",
       "      <td>36</td>\n",
       "    </tr>\n",
       "  </tbody>\n",
       "</table>\n",
       "<p>289 rows × 22 columns</p>\n",
       "</div>"
      ],
      "text/plain": [
       "            type                                    id  status  \\\n",
       "288  transaction  312885c2-6ff6-4d96-89c9-0bf1b2987f46  posted   \n",
       "287  transaction  414279bc-9226-45c5-9722-b18269374373  posted   \n",
       "286  transaction  8598b570-b80f-42a6-9a52-e73425b3ccd0  posted   \n",
       "285  transaction  1973ec3d-7680-45dd-ac2e-e1eb97c97ea3  posted   \n",
       "284  transaction  5b20b38e-6c98-4bfc-97bc-7c9ea2ccc983  posted   \n",
       "..           ...                                   ...     ...   \n",
       "4    transaction  d12df6a2-48b6-4f5f-a718-ccb377aa330c  posted   \n",
       "3    transaction  1ab3a3c5-faeb-4de3-b5aa-612e5bc76fd5  posted   \n",
       "2    transaction  323f6d42-a38e-4c46-83d2-6c8f3e999686  posted   \n",
       "1    transaction  0d6e11ab-e28e-4de0-a152-600cc44fb61c  posted   \n",
       "0    transaction  4957bcf6-f18f-43d7-94df-71f44a0bcf32  posted   \n",
       "\n",
       "                                          description  amount  \\\n",
       "288                       AGL RETAIL ENERGY LTD (GAS)   -92.0   \n",
       "287                       AGL RETAIL ENERGY LTD (GAS)  -160.0   \n",
       "286                             TFR Acc14000 TO 12389  -500.0   \n",
       "285                           Manly Maths Tutor Wages   201.0   \n",
       "284                           Manly Maths Tutor Wages   201.0   \n",
       "..                                                ...     ...   \n",
       "4                     Transfer Platnm Homeloan 346454 -3852.5   \n",
       "3                        Non Hooli ATM Withdrawal Fee    -2.5   \n",
       "2    Wdl ATM WES IGA BALGOWLAH HGT  BALGOWL        AU  -200.0   \n",
       "1                        Non Hooli ATM Withdrawal Fee    -2.5   \n",
       "0    Wdl ATM WES IGA BALGOWLAH HGT  BALGOWL        AU  -200.0   \n",
       "\n",
       "                                  account   balance direction  \\\n",
       "288  070c1d68-0ee0-477a-9679-294ea7059939    -99.34     debit   \n",
       "287  070c1d68-0ee0-477a-9679-294ea7059939   -259.34     debit   \n",
       "286  070c1d68-0ee0-477a-9679-294ea7059939   -759.34     debit   \n",
       "285  070c1d68-0ee0-477a-9679-294ea7059939   -558.34    credit   \n",
       "284  070c1d68-0ee0-477a-9679-294ea7059939   -357.34    credit   \n",
       "..                                    ...       ...       ...   \n",
       "4    070c1d68-0ee0-477a-9679-294ea7059939  22514.56     debit   \n",
       "3    070c1d68-0ee0-477a-9679-294ea7059939  22512.06     debit   \n",
       "2    070c1d68-0ee0-477a-9679-294ea7059939  22312.06     debit   \n",
       "1    070c1d68-0ee0-477a-9679-294ea7059939  22309.56     debit   \n",
       "0                                d3de1ca1  22109.56     debit   \n",
       "\n",
       "               class institution  ... transactionDate            postDate  \\\n",
       "288          payment     AU00000  ...      10/12/2021 2021-12-10 00:00:00   \n",
       "287          payment     AU00000  ...      10/12/2021 2021-12-10 00:00:00   \n",
       "286          payment     AU00000  ...      13/12/2021 2021-12-13 00:00:00   \n",
       "285         transfer     AU00000  ...      14/12/2021 2021-12-14 00:00:00   \n",
       "284         transfer     AU00000  ...      26/12/2021 2021-12-16 00:00:00   \n",
       "..               ...         ...  ...             ...                 ...   \n",
       "4            payment     AU00000  ...      29/07/2023 2023-07-29 00:00:00   \n",
       "3           bank-fee     AU00000  ...       3/08/2023 2023-08-03 00:00:00   \n",
       "2    cash-withdrawal     AU00000  ...       3/08/2023 2023-08-03 00:00:00   \n",
       "1           bank-fee     AU00000  ...       3/08/2023 2023-08-03 00:00:00   \n",
       "0    cash-withdrawal     AU00000  ...       3/08/2023 2023-08-03 00:07:36   \n",
       "\n",
       "                                              subClass  \\\n",
       "288             {\\title\\\":\\\"Electricity Distribution\\\"   \n",
       "287             {\\title\\\":\\\"Electricity Distribution\\\"   \n",
       "286        {\\title\\\":\\\"Legal and Accounting Services\\\"   \n",
       "285         {\\title\\\":\\\"Educational Support Services\\\"   \n",
       "284         {\\title\\\":\\\"Educational Support Services\\\"   \n",
       "..                                                 ...   \n",
       "4    {\\title\\\":\\\"Auxiliary Finance and Investment S...   \n",
       "3                                       {\\title\\\":\\\"\\\"   \n",
       "2                                                  NaN   \n",
       "1                                       {\\title\\\":\\\"\\\"   \n",
       "0                                                  NaN   \n",
       "\n",
       "                                                 links  Year Month  Day  Hour  \\\n",
       "288                                 \\\"code\\\":\\\"263\\\"}\"  2021    12   10     0   \n",
       "287                                 \\\"code\\\":\\\"263\\\"}\"  2021    12   10     0   \n",
       "286                                 \\\"code\\\":\\\"693\\\"}\"  2021    12   13     0   \n",
       "285                                 \\\"code\\\":\\\"822\\\"}\"  2021    12   14     0   \n",
       "284                                 \\\"code\\\":\\\"822\\\"}\"  2021    12   16     0   \n",
       "..                                                 ...   ...   ...  ...   ...   \n",
       "4                                   \\\"code\\\":\\\"641\\\"}\"  2023     7   29     0   \n",
       "3                                  \\\"code\\\":\\\"card\\\"}\"  2023     8    3     0   \n",
       "2    {\\self\\\":\\\"https://au-api.basiq.io/users/bca4b...  2023     8    3     0   \n",
       "1                                  \\\"code\\\":\\\"card\\\"}\"  2023     8    3     0   \n",
       "0    {\"account\":\"https://au-api.basiq.io/users/6a52...  2023     8    3     0   \n",
       "\n",
       "     Minute  Second  \n",
       "288       0       0  \n",
       "287       0       0  \n",
       "286       0       0  \n",
       "285       0       0  \n",
       "284       0       0  \n",
       "..      ...     ...  \n",
       "4         0       0  \n",
       "3         0       0  \n",
       "2         0       0  \n",
       "1         0       0  \n",
       "0         7      36  \n",
       "\n",
       "[289 rows x 22 columns]"
      ]
     },
     "execution_count": 13,
     "metadata": {},
     "output_type": "execute_result"
    }
   ],
   "source": [
    "df"
   ]
  },
  {
   "cell_type": "code",
   "execution_count": 14,
   "metadata": {},
   "outputs": [
    {
     "name": "stderr",
     "output_type": "stream",
     "text": [
      "C:\\Users\\gaya3\\AppData\\Local\\Temp\\ipykernel_37828\\2051230037.py:3: SettingWithCopyWarning: \n",
      "A value is trying to be set on a copy of a slice from a DataFrame.\n",
      "Try using .loc[row_indexer,col_indexer] = value instead\n",
      "\n",
      "See the caveats in the documentation: https://pandas.pydata.org/pandas-docs/stable/user_guide/indexing.html#returning-a-view-versus-a-copy\n",
      "  df['postDate'] = pd.to_datetime(df['postDate']).dt.date\n"
     ]
    }
   ],
   "source": [
    "columns_to_keep = [\"postDate\", \"balance\"]\n",
    "df = df[columns_to_keep]\n",
    "df['postDate'] = pd.to_datetime(df['postDate']).dt.date\n",
    "df = df.groupby('postDate').agg({'balance': 'min'}).reset_index()"
   ]
  },
  {
   "cell_type": "code",
   "execution_count": 15,
   "metadata": {},
   "outputs": [
    {
     "data": {
      "text/html": [
       "<div>\n",
       "<style scoped>\n",
       "    .dataframe tbody tr th:only-of-type {\n",
       "        vertical-align: middle;\n",
       "    }\n",
       "\n",
       "    .dataframe tbody tr th {\n",
       "        vertical-align: top;\n",
       "    }\n",
       "\n",
       "    .dataframe thead th {\n",
       "        text-align: right;\n",
       "    }\n",
       "</style>\n",
       "<table border=\"1\" class=\"dataframe\">\n",
       "  <thead>\n",
       "    <tr style=\"text-align: right;\">\n",
       "      <th></th>\n",
       "      <th>postDate</th>\n",
       "      <th>balance</th>\n",
       "    </tr>\n",
       "  </thead>\n",
       "  <tbody>\n",
       "    <tr>\n",
       "      <th>0</th>\n",
       "      <td>2021-12-10</td>\n",
       "      <td>-259.34</td>\n",
       "    </tr>\n",
       "    <tr>\n",
       "      <th>1</th>\n",
       "      <td>2021-12-13</td>\n",
       "      <td>-759.34</td>\n",
       "    </tr>\n",
       "    <tr>\n",
       "      <th>2</th>\n",
       "      <td>2021-12-14</td>\n",
       "      <td>-558.34</td>\n",
       "    </tr>\n",
       "    <tr>\n",
       "      <th>3</th>\n",
       "      <td>2021-12-16</td>\n",
       "      <td>-357.34</td>\n",
       "    </tr>\n",
       "    <tr>\n",
       "      <th>4</th>\n",
       "      <td>2021-12-26</td>\n",
       "      <td>-759.84</td>\n",
       "    </tr>\n",
       "    <tr>\n",
       "      <th>...</th>\n",
       "      <td>...</td>\n",
       "      <td>...</td>\n",
       "    </tr>\n",
       "    <tr>\n",
       "      <th>158</th>\n",
       "      <td>2023-07-16</td>\n",
       "      <td>18474.06</td>\n",
       "    </tr>\n",
       "    <tr>\n",
       "      <th>159</th>\n",
       "      <td>2023-07-17</td>\n",
       "      <td>18675.06</td>\n",
       "    </tr>\n",
       "    <tr>\n",
       "      <th>160</th>\n",
       "      <td>2023-07-28</td>\n",
       "      <td>26367.06</td>\n",
       "    </tr>\n",
       "    <tr>\n",
       "      <th>161</th>\n",
       "      <td>2023-07-29</td>\n",
       "      <td>22514.56</td>\n",
       "    </tr>\n",
       "    <tr>\n",
       "      <th>162</th>\n",
       "      <td>2023-08-03</td>\n",
       "      <td>22109.56</td>\n",
       "    </tr>\n",
       "  </tbody>\n",
       "</table>\n",
       "<p>163 rows × 2 columns</p>\n",
       "</div>"
      ],
      "text/plain": [
       "       postDate   balance\n",
       "0    2021-12-10   -259.34\n",
       "1    2021-12-13   -759.34\n",
       "2    2021-12-14   -558.34\n",
       "3    2021-12-16   -357.34\n",
       "4    2021-12-26   -759.84\n",
       "..          ...       ...\n",
       "158  2023-07-16  18474.06\n",
       "159  2023-07-17  18675.06\n",
       "160  2023-07-28  26367.06\n",
       "161  2023-07-29  22514.56\n",
       "162  2023-08-03  22109.56\n",
       "\n",
       "[163 rows x 2 columns]"
      ]
     },
     "execution_count": 15,
     "metadata": {},
     "output_type": "execute_result"
    }
   ],
   "source": [
    "df"
   ]
  },
  {
   "cell_type": "code",
   "execution_count": 16,
   "metadata": {},
   "outputs": [],
   "source": [
    "# Save the DataFrame to a new CSV file if needed\n",
    "df.to_csv('modified_transactions_data.csv', index=False)"
   ]
  },
  {
   "cell_type": "code",
   "execution_count": 17,
   "metadata": {},
   "outputs": [],
   "source": [
    "df['postDate'] = pd.to_datetime(df['postDate'])\n",
    "df.set_index('postDate', inplace=True)\n",
    "\n",
    "# Then, resample the DataFrame with daily frequency and forward-fill missing values\n",
    "df = df.resample('D').ffill()\n",
    "\n",
    "# Reset the index to have 'postDate' as a regular column again\n",
    "df.reset_index(inplace=True)"
   ]
  },
  {
   "cell_type": "code",
   "execution_count": 18,
   "metadata": {},
   "outputs": [
    {
     "data": {
      "text/html": [
       "<div>\n",
       "<style scoped>\n",
       "    .dataframe tbody tr th:only-of-type {\n",
       "        vertical-align: middle;\n",
       "    }\n",
       "\n",
       "    .dataframe tbody tr th {\n",
       "        vertical-align: top;\n",
       "    }\n",
       "\n",
       "    .dataframe thead th {\n",
       "        text-align: right;\n",
       "    }\n",
       "</style>\n",
       "<table border=\"1\" class=\"dataframe\">\n",
       "  <thead>\n",
       "    <tr style=\"text-align: right;\">\n",
       "      <th></th>\n",
       "      <th>postDate</th>\n",
       "      <th>balance</th>\n",
       "    </tr>\n",
       "  </thead>\n",
       "  <tbody>\n",
       "    <tr>\n",
       "      <th>0</th>\n",
       "      <td>2021-12-10</td>\n",
       "      <td>-259.34</td>\n",
       "    </tr>\n",
       "    <tr>\n",
       "      <th>1</th>\n",
       "      <td>2021-12-11</td>\n",
       "      <td>-259.34</td>\n",
       "    </tr>\n",
       "    <tr>\n",
       "      <th>2</th>\n",
       "      <td>2021-12-12</td>\n",
       "      <td>-259.34</td>\n",
       "    </tr>\n",
       "    <tr>\n",
       "      <th>3</th>\n",
       "      <td>2021-12-13</td>\n",
       "      <td>-759.34</td>\n",
       "    </tr>\n",
       "    <tr>\n",
       "      <th>4</th>\n",
       "      <td>2021-12-14</td>\n",
       "      <td>-558.34</td>\n",
       "    </tr>\n",
       "    <tr>\n",
       "      <th>...</th>\n",
       "      <td>...</td>\n",
       "      <td>...</td>\n",
       "    </tr>\n",
       "    <tr>\n",
       "      <th>597</th>\n",
       "      <td>2023-07-30</td>\n",
       "      <td>22514.56</td>\n",
       "    </tr>\n",
       "    <tr>\n",
       "      <th>598</th>\n",
       "      <td>2023-07-31</td>\n",
       "      <td>22514.56</td>\n",
       "    </tr>\n",
       "    <tr>\n",
       "      <th>599</th>\n",
       "      <td>2023-08-01</td>\n",
       "      <td>22514.56</td>\n",
       "    </tr>\n",
       "    <tr>\n",
       "      <th>600</th>\n",
       "      <td>2023-08-02</td>\n",
       "      <td>22514.56</td>\n",
       "    </tr>\n",
       "    <tr>\n",
       "      <th>601</th>\n",
       "      <td>2023-08-03</td>\n",
       "      <td>22109.56</td>\n",
       "    </tr>\n",
       "  </tbody>\n",
       "</table>\n",
       "<p>602 rows × 2 columns</p>\n",
       "</div>"
      ],
      "text/plain": [
       "      postDate   balance\n",
       "0   2021-12-10   -259.34\n",
       "1   2021-12-11   -259.34\n",
       "2   2021-12-12   -259.34\n",
       "3   2021-12-13   -759.34\n",
       "4   2021-12-14   -558.34\n",
       "..         ...       ...\n",
       "597 2023-07-30  22514.56\n",
       "598 2023-07-31  22514.56\n",
       "599 2023-08-01  22514.56\n",
       "600 2023-08-02  22514.56\n",
       "601 2023-08-03  22109.56\n",
       "\n",
       "[602 rows x 2 columns]"
      ]
     },
     "execution_count": 18,
     "metadata": {},
     "output_type": "execute_result"
    }
   ],
   "source": [
    "df"
   ]
  },
  {
   "cell_type": "code",
   "execution_count": 19,
   "metadata": {},
   "outputs": [
    {
     "data": {
      "text/plain": [
       "<Axes: >"
      ]
     },
     "execution_count": 19,
     "metadata": {},
     "output_type": "execute_result"
    },
    {
     "data": {
      "image/png": "[encoded data removed]",
      "text/plain": [
       "<Figure size 640x480 with 1 Axes>"
      ]
     },
     "metadata": {},
     "output_type": "display_data"
    }
   ],
   "source": [
    "df.plot()"
   ]
  },
  {
   "cell_type": "code",
   "execution_count": 20,
   "metadata": {},
   "outputs": [],
   "source": [
    "df.set_index('postDate', inplace=True)\n",
    "\n",
    "train_size = int(len(df) * 0.8)\n",
    "train_data = df['balance'][:train_size]\n",
    "test_data = df['balance'][train_size:]"
   ]
  },
  {
   "cell_type": "code",
   "execution_count": 21,
   "metadata": {},
   "outputs": [
    {
     "data": {
      "image/png": "[encoded data removed]",
      "text/plain": [
       "<Figure size 640x480 with 1 Axes>"
      ]
     },
     "metadata": {},
     "output_type": "display_data"
    },
    {
     "data": {
      "image/png": "[encoded data removed]",
      "text/plain": [
       "<Figure size 640x480 with 1 Axes>"
      ]
     },
     "metadata": {},
     "output_type": "display_data"
    }
   ],
   "source": [
    "#inserted\n",
    "from statsmodels.graphics.tsaplots import plot_acf, plot_pacf\n",
    "\n",
    "acf_original = plot_acf(train_data)\n",
    "pacf_original = plot_pacf(train_data)"
   ]
  },
  {
   "cell_type": "code",
   "execution_count": 58,
   "metadata": {},
   "outputs": [
    {
     "name": "stdout",
     "output_type": "stream",
     "text": [
      "p-value: 0.009081597283628335\n"
     ]
    }
   ],
   "source": [
    "#inserted\n",
    "from statsmodels.tsa.stattools import adfuller\n",
    "adf_test = adfuller(train_data)\n",
    "print(f'p-value: {adf_test[1]}')"
   ]
  },
  {
   "cell_type": "code",
   "execution_count": 59,
   "metadata": {},
   "outputs": [
    {
     "data": {
      "text/plain": [
       "<Axes: xlabel='postDate'>"
      ]
     },
     "execution_count": 59,
     "metadata": {},
     "output_type": "execute_result"
    },
    {
     "data": {
      "image/png": "[encoded data removed]",
      "text/plain": [
       "<Figure size 640x480 with 1 Axes>"
      ]
     },
     "metadata": {},
     "output_type": "display_data"
    }
   ],
   "source": [
    "df_train_diff = train_data.diff().dropna()\n",
    "df_train_diff.plot()"
   ]
  },
  {
   "cell_type": "code",
   "execution_count": 60,
   "metadata": {},
   "outputs": [
    {
     "data": {
      "image/png": "[encoded data removed]",
      "text/plain": [
       "<Figure size 640x480 with 1 Axes>"
      ]
     },
     "metadata": {},
     "output_type": "display_data"
    },
    {
     "data": {
      "image/png": "[encoded data removed]",
      "text/plain": [
       "<Figure size 640x480 with 1 Axes>"
      ]
     },
     "metadata": {},
     "output_type": "display_data"
    }
   ],
   "source": [
    "acf_diff = plot_acf(df_train_diff)\n",
    "\n",
    "pacf_diff = plot_pacf(df_train_diff)"
   ]
  },
  {
   "cell_type": "code",
   "execution_count": 184,
   "metadata": {},
   "outputs": [
    {
     "data": {
      "text/html": [
       "<style>#sk-container-id-1 {color: black;}#sk-container-id-1 pre{padding: 0;}#sk-container-id-1 div.sk-toggleable {background-color: white;}#sk-container-id-1 label.sk-toggleable__label {cursor: pointer;display: block;width: 100%;margin-bottom: 0;padding: 0.3em;box-sizing: border-box;text-align: center;}#sk-container-id-1 label.sk-toggleable__label-arrow:before {content: \"▸\";float: left;margin-right: 0.25em;color: #696969;}#sk-container-id-1 label.sk-toggleable__label-arrow:hover:before {color: black;}#sk-container-id-1 div.sk-estimator:hover label.sk-toggleable__label-arrow:before {color: black;}#sk-container-id-1 div.sk-toggleable__content {max-height: 0;max-width: 0;overflow: hidden;text-align: left;background-color: #f0f8ff;}#sk-container-id-1 div.sk-toggleable__content pre {margin: 0.2em;color: black;border-radius: 0.25em;background-color: #f0f8ff;}#sk-container-id-1 input.sk-toggleable__control:checked~div.sk-toggleable__content {max-height: 200px;max-width: 100%;overflow: auto;}#sk-container-id-1 input.sk-toggleable__control:checked~label.sk-toggleable__label-arrow:before {content: \"▾\";}#sk-container-id-1 div.sk-estimator input.sk-toggleable__control:checked~label.sk-toggleable__label {background-color: #d4ebff;}#sk-container-id-1 div.sk-label input.sk-toggleable__control:checked~label.sk-toggleable__label {background-color: #d4ebff;}#sk-container-id-1 input.sk-hidden--visually {border: 0;clip: rect(1px 1px 1px 1px);clip: rect(1px, 1px, 1px, 1px);height: 1px;margin: -1px;overflow: hidden;padding: 0;position: absolute;width: 1px;}#sk-container-id-1 div.sk-estimator {font-family: monospace;background-color: #f0f8ff;border: 1px dotted black;border-radius: 0.25em;box-sizing: border-box;margin-bottom: 0.5em;}#sk-container-id-1 div.sk-estimator:hover {background-color: #d4ebff;}#sk-container-id-1 div.sk-parallel-item::after {content: \"\";width: 100%;border-bottom: 1px solid gray;flex-grow: 1;}#sk-container-id-1 div.sk-label:hover label.sk-toggleable__label {background-color: #d4ebff;}#sk-container-id-1 div.sk-serial::before {content: \"\";position: absolute;border-left: 1px solid gray;box-sizing: border-box;top: 0;bottom: 0;left: 50%;z-index: 0;}#sk-container-id-1 div.sk-serial {display: flex;flex-direction: column;align-items: center;background-color: white;padding-right: 0.2em;padding-left: 0.2em;position: relative;}#sk-container-id-1 div.sk-item {position: relative;z-index: 1;}#sk-container-id-1 div.sk-parallel {display: flex;align-items: stretch;justify-content: center;background-color: white;position: relative;}#sk-container-id-1 div.sk-item::before, #sk-container-id-1 div.sk-parallel-item::before {content: \"\";position: absolute;border-left: 1px solid gray;box-sizing: border-box;top: 0;bottom: 0;left: 50%;z-index: -1;}#sk-container-id-1 div.sk-parallel-item {display: flex;flex-direction: column;z-index: 1;position: relative;background-color: white;}#sk-container-id-1 div.sk-parallel-item:first-child::after {align-self: flex-end;width: 50%;}#sk-container-id-1 div.sk-parallel-item:last-child::after {align-self: flex-start;width: 50%;}#sk-container-id-1 div.sk-parallel-item:only-child::after {width: 0;}#sk-container-id-1 div.sk-dashed-wrapped {border: 1px dashed gray;margin: 0 0.4em 0.5em 0.4em;box-sizing: border-box;padding-bottom: 0.4em;background-color: white;}#sk-container-id-1 div.sk-label label {font-family: monospace;font-weight: bold;display: inline-block;line-height: 1.2em;}#sk-container-id-1 div.sk-label-container {text-align: center;}#sk-container-id-1 div.sk-container {/* jupyter's `normalize.less` sets `[hidden] { display: none; }` but bootstrap.min.css set `[hidden] { display: none !important; }` so we also need the `!important` here to be able to override the default hidden behavior on the sphinx rendered scikit-learn.org. See: https://github.com/scikit-learn/scikit-learn/issues/21755 */display: inline-block !important;position: relative;}#sk-container-id-1 div.sk-text-repr-fallback {display: none;}</style><div id=\"sk-container-id-1\" class=\"sk-top-container\"><div class=\"sk-text-repr-fallback\"><pre> ARIMA(0,1,1)(0,0,0)[0] intercept</pre><b>In a Jupyter environment, please rerun this cell to show the HTML representation or trust the notebook. <br />On GitHub, the HTML representation is unable to render, please try loading this page with nbviewer.org.</b></div><div class=\"sk-container\" hidden><div class=\"sk-item\"><div class=\"sk-estimator sk-toggleable\"><input class=\"sk-toggleable__control sk-hidden--visually\" id=\"sk-estimator-id-1\" type=\"checkbox\" checked><label for=\"sk-estimator-id-1\" class=\"sk-toggleable__label sk-toggleable__label-arrow\">ARIMA</label><div class=\"sk-toggleable__content\"><pre> ARIMA(0,1,1)(0,0,0)[0] intercept</pre></div></div></div></div></div>"
      ],
      "text/plain": [
       "ARIMA(order=(0, 1, 1), scoring_args={}, suppress_warnings=True)"
      ]
     },
     "execution_count": 184,
     "metadata": {},
     "output_type": "execute_result"
    }
   ],
   "source": [
    "import pmdarima as pm\n",
    "auto_arima = pm.auto_arima(train_data, stepwise=False, seasonal=False)\n",
    "auto_arima"
   ]
  },
  {
   "cell_type": "code",
   "execution_count": 231,
   "metadata": {},
   "outputs": [],
   "source": [
    "p = 0  # Autoregressive order\n",
    "d = 2  # Integrated order (differencing)\n",
    "q = 2 # Moving Average order"
   ]
  },
  {
   "cell_type": "code",
   "execution_count": 23,
   "metadata": {},
   "outputs": [
    {
     "name": "stdout",
     "output_type": "stream",
     "text": [
      "Examples of parameter combinations for Seasonal ARIMA...\n",
      "SARIMAX: (0, 0, 1) x (0, 0, 1, 12)\n",
      "SARIMAX: (0, 0, 1) x (0, 1, 0, 12)\n",
      "SARIMAX: (0, 1, 0) x (0, 1, 1, 12)\n",
      "SARIMAX: (0, 1, 0) x (1, 0, 0, 12)\n"
     ]
    }
   ],
   "source": [
    "# Define the p, d and q parameters to take any value between 0 and 2\n",
    "import itertools\n",
    "p = d = q = range(0, 2)\n",
    "\n",
    "# Generate all different combinations of p, q and q triplets\n",
    "pdq = list(itertools.product(p, d, q))\n",
    "\n",
    "# Generate all different combinations of seasonal p, q and q triplets\n",
    "seasonal_pdq = [(x[0], x[1], x[2], 12) for x in list(itertools.product(p, d, q))]\n",
    "\n",
    "print('Examples of parameter combinations for Seasonal ARIMA...')\n",
    "print('SARIMAX: {} x {}'.format(pdq[1], seasonal_pdq[1]))\n",
    "print('SARIMAX: {} x {}'.format(pdq[1], seasonal_pdq[2]))\n",
    "print('SARIMAX: {} x {}'.format(pdq[2], seasonal_pdq[3]))\n",
    "print('SARIMAX: {} x {}'.format(pdq[2], seasonal_pdq[4]))"
   ]
  },
  {
   "cell_type": "code",
   "execution_count": 24,
   "metadata": {},
   "outputs": [
    {
     "name": "stderr",
     "output_type": "stream",
     "text": [
      "c:\\Users\\gaya3\\Dolfin\\new\\Neo_Dolfin\\venv\\Lib\\site-packages\\statsmodels\\tsa\\base\\tsa_model.py:473: ValueWarning: No frequency information was provided, so inferred frequency D will be used.\n",
      "  self._init_dates(dates, freq)\n",
      "c:\\Users\\gaya3\\Dolfin\\new\\Neo_Dolfin\\venv\\Lib\\site-packages\\statsmodels\\tsa\\base\\tsa_model.py:473: ValueWarning: No frequency information was provided, so inferred frequency D will be used.\n",
      "  self._init_dates(dates, freq)\n",
      "c:\\Users\\gaya3\\Dolfin\\new\\Neo_Dolfin\\venv\\Lib\\site-packages\\statsmodels\\tsa\\base\\tsa_model.py:473: ValueWarning: No frequency information was provided, so inferred frequency D will be used.\n",
      "  self._init_dates(dates, freq)\n",
      "c:\\Users\\gaya3\\Dolfin\\new\\Neo_Dolfin\\venv\\Lib\\site-packages\\statsmodels\\tsa\\base\\tsa_model.py:473: ValueWarning: No frequency information was provided, so inferred frequency D will be used.\n",
      "  self._init_dates(dates, freq)\n",
      "c:\\Users\\gaya3\\Dolfin\\new\\Neo_Dolfin\\venv\\Lib\\site-packages\\statsmodels\\tsa\\base\\tsa_model.py:473: ValueWarning: No frequency information was provided, so inferred frequency D will be used.\n",
      "  self._init_dates(dates, freq)\n",
      "c:\\Users\\gaya3\\Dolfin\\new\\Neo_Dolfin\\venv\\Lib\\site-packages\\statsmodels\\tsa\\base\\tsa_model.py:473: ValueWarning: No frequency information was provided, so inferred frequency D will be used.\n",
      "  self._init_dates(dates, freq)\n"
     ]
    },
    {
     "name": "stdout",
     "output_type": "stream",
     "text": [
      "ARIMA(0, 0, 0)x(0, 0, 0, 12)12 - AIC:12572.491002728097\n",
      "ARIMA(0, 0, 0)x(0, 0, 1, 12)12 - AIC:11997.955411560339\n",
      "ARIMA(0, 0, 0)x(0, 1, 0, 12)12 - AIC:10987.645618404607\n"
     ]
    },
    {
     "name": "stderr",
     "output_type": "stream",
     "text": [
      "c:\\Users\\gaya3\\Dolfin\\new\\Neo_Dolfin\\venv\\Lib\\site-packages\\statsmodels\\tsa\\base\\tsa_model.py:473: ValueWarning: No frequency information was provided, so inferred frequency D will be used.\n",
      "  self._init_dates(dates, freq)\n",
      "c:\\Users\\gaya3\\Dolfin\\new\\Neo_Dolfin\\venv\\Lib\\site-packages\\statsmodels\\tsa\\base\\tsa_model.py:473: ValueWarning: No frequency information was provided, so inferred frequency D will be used.\n",
      "  self._init_dates(dates, freq)\n"
     ]
    },
    {
     "name": "stdout",
     "output_type": "stream",
     "text": [
      "ARIMA(0, 0, 0)x(0, 1, 1, 12)12 - AIC:10676.173996656391\n",
      "ARIMA(0, 0, 0)x(1, 0, 0, 12)12 - AIC:11006.013630099322\n"
     ]
    },
    {
     "name": "stderr",
     "output_type": "stream",
     "text": [
      "c:\\Users\\gaya3\\Dolfin\\new\\Neo_Dolfin\\venv\\Lib\\site-packages\\statsmodels\\tsa\\base\\tsa_model.py:473: ValueWarning: No frequency information was provided, so inferred frequency D will be used.\n",
      "  self._init_dates(dates, freq)\n",
      "c:\\Users\\gaya3\\Dolfin\\new\\Neo_Dolfin\\venv\\Lib\\site-packages\\statsmodels\\tsa\\base\\tsa_model.py:473: ValueWarning: No frequency information was provided, so inferred frequency D will be used.\n",
      "  self._init_dates(dates, freq)\n",
      "c:\\Users\\gaya3\\Dolfin\\new\\Neo_Dolfin\\venv\\Lib\\site-packages\\statsmodels\\tsa\\base\\tsa_model.py:473: ValueWarning: No frequency information was provided, so inferred frequency D will be used.\n",
      "  self._init_dates(dates, freq)\n",
      "c:\\Users\\gaya3\\Dolfin\\new\\Neo_Dolfin\\venv\\Lib\\site-packages\\statsmodels\\tsa\\base\\tsa_model.py:473: ValueWarning: No frequency information was provided, so inferred frequency D will be used.\n",
      "  self._init_dates(dates, freq)\n"
     ]
    },
    {
     "name": "stdout",
     "output_type": "stream",
     "text": [
      "ARIMA(0, 0, 0)x(1, 0, 1, 12)12 - AIC:10855.345978303463\n",
      "ARIMA(0, 0, 0)x(1, 1, 0, 12)12 - AIC:10649.898411838021\n"
     ]
    },
    {
     "name": "stderr",
     "output_type": "stream",
     "text": [
      "c:\\Users\\gaya3\\Dolfin\\new\\Neo_Dolfin\\venv\\Lib\\site-packages\\statsmodels\\tsa\\base\\tsa_model.py:473: ValueWarning: No frequency information was provided, so inferred frequency D will be used.\n",
      "  self._init_dates(dates, freq)\n",
      "c:\\Users\\gaya3\\Dolfin\\new\\Neo_Dolfin\\venv\\Lib\\site-packages\\statsmodels\\tsa\\base\\tsa_model.py:473: ValueWarning: No frequency information was provided, so inferred frequency D will be used.\n",
      "  self._init_dates(dates, freq)\n",
      "c:\\Users\\gaya3\\Dolfin\\new\\Neo_Dolfin\\venv\\Lib\\site-packages\\statsmodels\\tsa\\base\\tsa_model.py:473: ValueWarning: No frequency information was provided, so inferred frequency D will be used.\n",
      "  self._init_dates(dates, freq)\n",
      "c:\\Users\\gaya3\\Dolfin\\new\\Neo_Dolfin\\venv\\Lib\\site-packages\\statsmodels\\tsa\\base\\tsa_model.py:473: ValueWarning: No frequency information was provided, so inferred frequency D will be used.\n",
      "  self._init_dates(dates, freq)\n"
     ]
    },
    {
     "name": "stdout",
     "output_type": "stream",
     "text": [
      "ARIMA(0, 0, 0)x(1, 1, 1, 12)12 - AIC:10633.91667475267\n",
      "ARIMA(0, 0, 1)x(0, 0, 0, 12)12 - AIC:11903.90321792215\n"
     ]
    },
    {
     "name": "stderr",
     "output_type": "stream",
     "text": [
      "c:\\Users\\gaya3\\Dolfin\\new\\Neo_Dolfin\\venv\\Lib\\site-packages\\statsmodels\\tsa\\base\\tsa_model.py:473: ValueWarning: No frequency information was provided, so inferred frequency D will be used.\n",
      "  self._init_dates(dates, freq)\n",
      "c:\\Users\\gaya3\\Dolfin\\new\\Neo_Dolfin\\venv\\Lib\\site-packages\\statsmodels\\tsa\\base\\tsa_model.py:473: ValueWarning: No frequency information was provided, so inferred frequency D will be used.\n",
      "  self._init_dates(dates, freq)\n",
      "c:\\Users\\gaya3\\Dolfin\\new\\Neo_Dolfin\\venv\\Lib\\site-packages\\statsmodels\\tsa\\base\\tsa_model.py:473: ValueWarning: No frequency information was provided, so inferred frequency D will be used.\n",
      "  self._init_dates(dates, freq)\n",
      "c:\\Users\\gaya3\\Dolfin\\new\\Neo_Dolfin\\venv\\Lib\\site-packages\\statsmodels\\tsa\\base\\tsa_model.py:473: ValueWarning: No frequency information was provided, so inferred frequency D will be used.\n",
      "  self._init_dates(dates, freq)\n"
     ]
    },
    {
     "name": "stdout",
     "output_type": "stream",
     "text": [
      "ARIMA(0, 0, 1)x(0, 0, 1, 12)12 - AIC:11323.680401045349\n"
     ]
    },
    {
     "name": "stderr",
     "output_type": "stream",
     "text": [
      "c:\\Users\\gaya3\\Dolfin\\new\\Neo_Dolfin\\venv\\Lib\\site-packages\\statsmodels\\tsa\\base\\tsa_model.py:473: ValueWarning: No frequency information was provided, so inferred frequency D will be used.\n",
      "  self._init_dates(dates, freq)\n",
      "c:\\Users\\gaya3\\Dolfin\\new\\Neo_Dolfin\\venv\\Lib\\site-packages\\statsmodels\\tsa\\base\\tsa_model.py:473: ValueWarning: No frequency information was provided, so inferred frequency D will be used.\n",
      "  self._init_dates(dates, freq)\n"
     ]
    },
    {
     "name": "stdout",
     "output_type": "stream",
     "text": [
      "ARIMA(0, 0, 1)x(0, 1, 0, 12)12 - AIC:10728.782292086808\n"
     ]
    },
    {
     "name": "stderr",
     "output_type": "stream",
     "text": [
      "c:\\Users\\gaya3\\Dolfin\\new\\Neo_Dolfin\\venv\\Lib\\site-packages\\statsmodels\\tsa\\base\\tsa_model.py:473: ValueWarning: No frequency information was provided, so inferred frequency D will be used.\n",
      "  self._init_dates(dates, freq)\n",
      "c:\\Users\\gaya3\\Dolfin\\new\\Neo_Dolfin\\venv\\Lib\\site-packages\\statsmodels\\tsa\\base\\tsa_model.py:473: ValueWarning: No frequency information was provided, so inferred frequency D will be used.\n",
      "  self._init_dates(dates, freq)\n"
     ]
    },
    {
     "name": "stdout",
     "output_type": "stream",
     "text": [
      "ARIMA(0, 0, 1)x(0, 1, 1, 12)12 - AIC:10388.856467037856\n"
     ]
    },
    {
     "name": "stderr",
     "output_type": "stream",
     "text": [
      "c:\\Users\\gaya3\\Dolfin\\new\\Neo_Dolfin\\venv\\Lib\\site-packages\\statsmodels\\tsa\\base\\tsa_model.py:473: ValueWarning: No frequency information was provided, so inferred frequency D will be used.\n",
      "  self._init_dates(dates, freq)\n",
      "c:\\Users\\gaya3\\Dolfin\\new\\Neo_Dolfin\\venv\\Lib\\site-packages\\statsmodels\\tsa\\base\\tsa_model.py:473: ValueWarning: No frequency information was provided, so inferred frequency D will be used.\n",
      "  self._init_dates(dates, freq)\n"
     ]
    },
    {
     "name": "stdout",
     "output_type": "stream",
     "text": [
      "ARIMA(0, 0, 1)x(1, 0, 0, 12)12 - AIC:10764.629480163123\n"
     ]
    },
    {
     "name": "stderr",
     "output_type": "stream",
     "text": [
      "c:\\Users\\gaya3\\Dolfin\\new\\Neo_Dolfin\\venv\\Lib\\site-packages\\statsmodels\\tsa\\base\\tsa_model.py:473: ValueWarning: No frequency information was provided, so inferred frequency D will be used.\n",
      "  self._init_dates(dates, freq)\n",
      "c:\\Users\\gaya3\\Dolfin\\new\\Neo_Dolfin\\venv\\Lib\\site-packages\\statsmodels\\tsa\\base\\tsa_model.py:473: ValueWarning: No frequency information was provided, so inferred frequency D will be used.\n",
      "  self._init_dates(dates, freq)\n"
     ]
    },
    {
     "name": "stdout",
     "output_type": "stream",
     "text": [
      "ARIMA(0, 0, 1)x(1, 0, 1, 12)12 - AIC:10582.631735414405\n"
     ]
    },
    {
     "name": "stderr",
     "output_type": "stream",
     "text": [
      "c:\\Users\\gaya3\\Dolfin\\new\\Neo_Dolfin\\venv\\Lib\\site-packages\\statsmodels\\tsa\\base\\tsa_model.py:473: ValueWarning: No frequency information was provided, so inferred frequency D will be used.\n",
      "  self._init_dates(dates, freq)\n",
      "c:\\Users\\gaya3\\Dolfin\\new\\Neo_Dolfin\\venv\\Lib\\site-packages\\statsmodels\\tsa\\base\\tsa_model.py:473: ValueWarning: No frequency information was provided, so inferred frequency D will be used.\n",
      "  self._init_dates(dates, freq)\n"
     ]
    },
    {
     "name": "stdout",
     "output_type": "stream",
     "text": [
      "ARIMA(0, 0, 1)x(1, 1, 0, 12)12 - AIC:10410.55141017474\n"
     ]
    },
    {
     "name": "stderr",
     "output_type": "stream",
     "text": [
      "c:\\Users\\gaya3\\Dolfin\\new\\Neo_Dolfin\\venv\\Lib\\site-packages\\statsmodels\\tsa\\base\\tsa_model.py:473: ValueWarning: No frequency information was provided, so inferred frequency D will be used.\n",
      "  self._init_dates(dates, freq)\n",
      "c:\\Users\\gaya3\\Dolfin\\new\\Neo_Dolfin\\venv\\Lib\\site-packages\\statsmodels\\tsa\\base\\tsa_model.py:473: ValueWarning: No frequency information was provided, so inferred frequency D will be used.\n",
      "  self._init_dates(dates, freq)\n"
     ]
    },
    {
     "name": "stdout",
     "output_type": "stream",
     "text": [
      "ARIMA(0, 0, 1)x(1, 1, 1, 12)12 - AIC:10371.913585912302\n",
      "ARIMA(0, 1, 0)x(0, 0, 0, 12)12 - AIC:10444.83121564837\n",
      "ARIMA(0, 1, 0)x(0, 0, 1, 12)12 - AIC:10249.516116486779\n",
      "ARIMA(0, 1, 0)x(0, 1, 0, 12)12 - AIC:10627.56030853073\n"
     ]
    },
    {
     "name": "stderr",
     "output_type": "stream",
     "text": [
      "c:\\Users\\gaya3\\Dolfin\\new\\Neo_Dolfin\\venv\\Lib\\site-packages\\statsmodels\\tsa\\base\\tsa_model.py:473: ValueWarning: No frequency information was provided, so inferred frequency D will be used.\n",
      "  self._init_dates(dates, freq)\n",
      "c:\\Users\\gaya3\\Dolfin\\new\\Neo_Dolfin\\venv\\Lib\\site-packages\\statsmodels\\tsa\\base\\tsa_model.py:473: ValueWarning: No frequency information was provided, so inferred frequency D will be used.\n",
      "  self._init_dates(dates, freq)\n",
      "c:\\Users\\gaya3\\Dolfin\\new\\Neo_Dolfin\\venv\\Lib\\site-packages\\statsmodels\\tsa\\base\\tsa_model.py:473: ValueWarning: No frequency information was provided, so inferred frequency D will be used.\n",
      "  self._init_dates(dates, freq)\n",
      "c:\\Users\\gaya3\\Dolfin\\new\\Neo_Dolfin\\venv\\Lib\\site-packages\\statsmodels\\tsa\\base\\tsa_model.py:473: ValueWarning: No frequency information was provided, so inferred frequency D will be used.\n",
      "  self._init_dates(dates, freq)\n",
      "c:\\Users\\gaya3\\Dolfin\\new\\Neo_Dolfin\\venv\\Lib\\site-packages\\statsmodels\\tsa\\base\\tsa_model.py:473: ValueWarning: No frequency information was provided, so inferred frequency D will be used.\n",
      "  self._init_dates(dates, freq)\n",
      "c:\\Users\\gaya3\\Dolfin\\new\\Neo_Dolfin\\venv\\Lib\\site-packages\\statsmodels\\tsa\\base\\tsa_model.py:473: ValueWarning: No frequency information was provided, so inferred frequency D will be used.\n",
      "  self._init_dates(dates, freq)\n",
      "c:\\Users\\gaya3\\Dolfin\\new\\Neo_Dolfin\\venv\\Lib\\site-packages\\statsmodels\\tsa\\base\\tsa_model.py:473: ValueWarning: No frequency information was provided, so inferred frequency D will be used.\n",
      "  self._init_dates(dates, freq)\n",
      "c:\\Users\\gaya3\\Dolfin\\new\\Neo_Dolfin\\venv\\Lib\\site-packages\\statsmodels\\tsa\\base\\tsa_model.py:473: ValueWarning: No frequency information was provided, so inferred frequency D will be used.\n",
      "  self._init_dates(dates, freq)\n"
     ]
    },
    {
     "name": "stdout",
     "output_type": "stream",
     "text": [
      "ARIMA(0, 1, 0)x(0, 1, 1, 12)12 - AIC:10111.97148589187\n",
      "ARIMA(0, 1, 0)x(1, 0, 0, 12)12 - AIC:10265.937253158238\n"
     ]
    },
    {
     "name": "stderr",
     "output_type": "stream",
     "text": [
      "c:\\Users\\gaya3\\Dolfin\\new\\Neo_Dolfin\\venv\\Lib\\site-packages\\statsmodels\\tsa\\base\\tsa_model.py:473: ValueWarning: No frequency information was provided, so inferred frequency D will be used.\n",
      "  self._init_dates(dates, freq)\n",
      "c:\\Users\\gaya3\\Dolfin\\new\\Neo_Dolfin\\venv\\Lib\\site-packages\\statsmodels\\tsa\\base\\tsa_model.py:473: ValueWarning: No frequency information was provided, so inferred frequency D will be used.\n",
      "  self._init_dates(dates, freq)\n",
      "c:\\Users\\gaya3\\Dolfin\\new\\Neo_Dolfin\\venv\\Lib\\site-packages\\statsmodels\\tsa\\base\\tsa_model.py:473: ValueWarning: No frequency information was provided, so inferred frequency D will be used.\n",
      "  self._init_dates(dates, freq)\n",
      "c:\\Users\\gaya3\\Dolfin\\new\\Neo_Dolfin\\venv\\Lib\\site-packages\\statsmodels\\tsa\\base\\tsa_model.py:473: ValueWarning: No frequency information was provided, so inferred frequency D will be used.\n",
      "  self._init_dates(dates, freq)\n"
     ]
    },
    {
     "name": "stdout",
     "output_type": "stream",
     "text": [
      "ARIMA(0, 1, 0)x(1, 0, 1, 12)12 - AIC:10250.58219906457\n",
      "ARIMA(0, 1, 0)x(1, 1, 0, 12)12 - AIC:10271.267006404814\n"
     ]
    },
    {
     "name": "stderr",
     "output_type": "stream",
     "text": [
      "c:\\Users\\gaya3\\Dolfin\\new\\Neo_Dolfin\\venv\\Lib\\site-packages\\statsmodels\\tsa\\base\\tsa_model.py:473: ValueWarning: No frequency information was provided, so inferred frequency D will be used.\n",
      "  self._init_dates(dates, freq)\n",
      "c:\\Users\\gaya3\\Dolfin\\new\\Neo_Dolfin\\venv\\Lib\\site-packages\\statsmodels\\tsa\\base\\tsa_model.py:473: ValueWarning: No frequency information was provided, so inferred frequency D will be used.\n",
      "  self._init_dates(dates, freq)\n",
      "c:\\Users\\gaya3\\Dolfin\\new\\Neo_Dolfin\\venv\\Lib\\site-packages\\statsmodels\\tsa\\base\\tsa_model.py:473: ValueWarning: No frequency information was provided, so inferred frequency D will be used.\n",
      "  self._init_dates(dates, freq)\n",
      "c:\\Users\\gaya3\\Dolfin\\new\\Neo_Dolfin\\venv\\Lib\\site-packages\\statsmodels\\tsa\\base\\tsa_model.py:473: ValueWarning: No frequency information was provided, so inferred frequency D will be used.\n",
      "  self._init_dates(dates, freq)\n"
     ]
    },
    {
     "name": "stdout",
     "output_type": "stream",
     "text": [
      "ARIMA(0, 1, 0)x(1, 1, 1, 12)12 - AIC:10093.156053552695\n",
      "ARIMA(0, 1, 1)x(0, 0, 0, 12)12 - AIC:10311.045526458714\n",
      "ARIMA(0, 1, 1)x(0, 0, 1, 12)12 - AIC:10117.656015661027\n"
     ]
    },
    {
     "name": "stderr",
     "output_type": "stream",
     "text": [
      "c:\\Users\\gaya3\\Dolfin\\new\\Neo_Dolfin\\venv\\Lib\\site-packages\\statsmodels\\tsa\\base\\tsa_model.py:473: ValueWarning: No frequency information was provided, so inferred frequency D will be used.\n",
      "  self._init_dates(dates, freq)\n",
      "c:\\Users\\gaya3\\Dolfin\\new\\Neo_Dolfin\\venv\\Lib\\site-packages\\statsmodels\\tsa\\base\\tsa_model.py:473: ValueWarning: No frequency information was provided, so inferred frequency D will be used.\n",
      "  self._init_dates(dates, freq)\n",
      "c:\\Users\\gaya3\\Dolfin\\new\\Neo_Dolfin\\venv\\Lib\\site-packages\\statsmodels\\tsa\\base\\tsa_model.py:473: ValueWarning: No frequency information was provided, so inferred frequency D will be used.\n",
      "  self._init_dates(dates, freq)\n",
      "c:\\Users\\gaya3\\Dolfin\\new\\Neo_Dolfin\\venv\\Lib\\site-packages\\statsmodels\\tsa\\base\\tsa_model.py:473: ValueWarning: No frequency information was provided, so inferred frequency D will be used.\n",
      "  self._init_dates(dates, freq)\n",
      "c:\\Users\\gaya3\\Dolfin\\new\\Neo_Dolfin\\venv\\Lib\\site-packages\\statsmodels\\tsa\\base\\tsa_model.py:473: ValueWarning: No frequency information was provided, so inferred frequency D will be used.\n",
      "  self._init_dates(dates, freq)\n",
      "c:\\Users\\gaya3\\Dolfin\\new\\Neo_Dolfin\\venv\\Lib\\site-packages\\statsmodels\\tsa\\base\\tsa_model.py:473: ValueWarning: No frequency information was provided, so inferred frequency D will be used.\n",
      "  self._init_dates(dates, freq)\n"
     ]
    },
    {
     "name": "stdout",
     "output_type": "stream",
     "text": [
      "ARIMA(0, 1, 1)x(0, 1, 0, 12)12 - AIC:10521.736214885459\n"
     ]
    },
    {
     "name": "stderr",
     "output_type": "stream",
     "text": [
      "c:\\Users\\gaya3\\Dolfin\\new\\Neo_Dolfin\\venv\\Lib\\site-packages\\statsmodels\\tsa\\base\\tsa_model.py:473: ValueWarning: No frequency information was provided, so inferred frequency D will be used.\n",
      "  self._init_dates(dates, freq)\n",
      "c:\\Users\\gaya3\\Dolfin\\new\\Neo_Dolfin\\venv\\Lib\\site-packages\\statsmodels\\tsa\\base\\tsa_model.py:473: ValueWarning: No frequency information was provided, so inferred frequency D will be used.\n",
      "  self._init_dates(dates, freq)\n"
     ]
    },
    {
     "name": "stdout",
     "output_type": "stream",
     "text": [
      "ARIMA(0, 1, 1)x(0, 1, 1, 12)12 - AIC:9930.292734995393\n",
      "ARIMA(0, 1, 1)x(1, 0, 0, 12)12 - AIC:10150.106252396286\n"
     ]
    },
    {
     "name": "stderr",
     "output_type": "stream",
     "text": [
      "c:\\Users\\gaya3\\Dolfin\\new\\Neo_Dolfin\\venv\\Lib\\site-packages\\statsmodels\\tsa\\base\\tsa_model.py:473: ValueWarning: No frequency information was provided, so inferred frequency D will be used.\n",
      "  self._init_dates(dates, freq)\n",
      "c:\\Users\\gaya3\\Dolfin\\new\\Neo_Dolfin\\venv\\Lib\\site-packages\\statsmodels\\tsa\\base\\tsa_model.py:473: ValueWarning: No frequency information was provided, so inferred frequency D will be used.\n",
      "  self._init_dates(dates, freq)\n",
      "c:\\Users\\gaya3\\Dolfin\\new\\Neo_Dolfin\\venv\\Lib\\site-packages\\statsmodels\\tsa\\base\\tsa_model.py:473: ValueWarning: No frequency information was provided, so inferred frequency D will be used.\n",
      "  self._init_dates(dates, freq)\n",
      "c:\\Users\\gaya3\\Dolfin\\new\\Neo_Dolfin\\venv\\Lib\\site-packages\\statsmodels\\tsa\\base\\tsa_model.py:473: ValueWarning: No frequency information was provided, so inferred frequency D will be used.\n",
      "  self._init_dates(dates, freq)\n"
     ]
    },
    {
     "name": "stdout",
     "output_type": "stream",
     "text": [
      "ARIMA(0, 1, 1)x(1, 0, 1, 12)12 - AIC:10119.022158626536\n"
     ]
    },
    {
     "name": "stderr",
     "output_type": "stream",
     "text": [
      "c:\\Users\\gaya3\\Dolfin\\new\\Neo_Dolfin\\venv\\Lib\\site-packages\\statsmodels\\tsa\\base\\tsa_model.py:473: ValueWarning: No frequency information was provided, so inferred frequency D will be used.\n",
      "  self._init_dates(dates, freq)\n",
      "c:\\Users\\gaya3\\Dolfin\\new\\Neo_Dolfin\\venv\\Lib\\site-packages\\statsmodels\\tsa\\base\\tsa_model.py:473: ValueWarning: No frequency information was provided, so inferred frequency D will be used.\n",
      "  self._init_dates(dates, freq)\n"
     ]
    },
    {
     "name": "stdout",
     "output_type": "stream",
     "text": [
      "ARIMA(0, 1, 1)x(1, 1, 0, 12)12 - AIC:10168.798688416453\n"
     ]
    },
    {
     "name": "stderr",
     "output_type": "stream",
     "text": [
      "c:\\Users\\gaya3\\Dolfin\\new\\Neo_Dolfin\\venv\\Lib\\site-packages\\statsmodels\\tsa\\base\\tsa_model.py:473: ValueWarning: No frequency information was provided, so inferred frequency D will be used.\n",
      "  self._init_dates(dates, freq)\n",
      "c:\\Users\\gaya3\\Dolfin\\new\\Neo_Dolfin\\venv\\Lib\\site-packages\\statsmodels\\tsa\\base\\tsa_model.py:473: ValueWarning: No frequency information was provided, so inferred frequency D will be used.\n",
      "  self._init_dates(dates, freq)\n"
     ]
    },
    {
     "name": "stdout",
     "output_type": "stream",
     "text": [
      "ARIMA(0, 1, 1)x(1, 1, 1, 12)12 - AIC:9931.233079538479\n",
      "ARIMA(1, 0, 0)x(0, 0, 0, 12)12 - AIC:10461.511633145614\n",
      "ARIMA(1, 0, 0)x(0, 0, 1, 12)12 - AIC:10266.21347298285\n"
     ]
    },
    {
     "name": "stderr",
     "output_type": "stream",
     "text": [
      "c:\\Users\\gaya3\\Dolfin\\new\\Neo_Dolfin\\venv\\Lib\\site-packages\\statsmodels\\tsa\\base\\tsa_model.py:473: ValueWarning: No frequency information was provided, so inferred frequency D will be used.\n",
      "  self._init_dates(dates, freq)\n",
      "c:\\Users\\gaya3\\Dolfin\\new\\Neo_Dolfin\\venv\\Lib\\site-packages\\statsmodels\\tsa\\base\\tsa_model.py:473: ValueWarning: No frequency information was provided, so inferred frequency D will be used.\n",
      "  self._init_dates(dates, freq)\n",
      "c:\\Users\\gaya3\\Dolfin\\new\\Neo_Dolfin\\venv\\Lib\\site-packages\\statsmodels\\tsa\\base\\tsa_model.py:473: ValueWarning: No frequency information was provided, so inferred frequency D will be used.\n",
      "  self._init_dates(dates, freq)\n",
      "c:\\Users\\gaya3\\Dolfin\\new\\Neo_Dolfin\\venv\\Lib\\site-packages\\statsmodels\\tsa\\base\\tsa_model.py:473: ValueWarning: No frequency information was provided, so inferred frequency D will be used.\n",
      "  self._init_dates(dates, freq)\n",
      "c:\\Users\\gaya3\\Dolfin\\new\\Neo_Dolfin\\venv\\Lib\\site-packages\\statsmodels\\tsa\\base\\tsa_model.py:473: ValueWarning: No frequency information was provided, so inferred frequency D will be used.\n",
      "  self._init_dates(dates, freq)\n",
      "c:\\Users\\gaya3\\Dolfin\\new\\Neo_Dolfin\\venv\\Lib\\site-packages\\statsmodels\\tsa\\base\\tsa_model.py:473: ValueWarning: No frequency information was provided, so inferred frequency D will be used.\n",
      "  self._init_dates(dates, freq)\n"
     ]
    },
    {
     "name": "stdout",
     "output_type": "stream",
     "text": [
      "ARIMA(1, 0, 0)x(0, 1, 0, 12)12 - AIC:10558.600050056146\n"
     ]
    },
    {
     "name": "stderr",
     "output_type": "stream",
     "text": [
      "c:\\Users\\gaya3\\Dolfin\\new\\Neo_Dolfin\\venv\\Lib\\site-packages\\statsmodels\\tsa\\base\\tsa_model.py:473: ValueWarning: No frequency information was provided, so inferred frequency D will be used.\n",
      "  self._init_dates(dates, freq)\n",
      "c:\\Users\\gaya3\\Dolfin\\new\\Neo_Dolfin\\venv\\Lib\\site-packages\\statsmodels\\tsa\\base\\tsa_model.py:473: ValueWarning: No frequency information was provided, so inferred frequency D will be used.\n",
      "  self._init_dates(dates, freq)\n"
     ]
    },
    {
     "name": "stdout",
     "output_type": "stream",
     "text": [
      "ARIMA(1, 0, 0)x(0, 1, 1, 12)12 - AIC:10069.581976690044\n",
      "ARIMA(1, 0, 0)x(1, 0, 0, 12)12 - AIC:10266.219179747073\n"
     ]
    },
    {
     "name": "stderr",
     "output_type": "stream",
     "text": [
      "c:\\Users\\gaya3\\Dolfin\\new\\Neo_Dolfin\\venv\\Lib\\site-packages\\statsmodels\\tsa\\base\\tsa_model.py:473: ValueWarning: No frequency information was provided, so inferred frequency D will be used.\n",
      "  self._init_dates(dates, freq)\n",
      "c:\\Users\\gaya3\\Dolfin\\new\\Neo_Dolfin\\venv\\Lib\\site-packages\\statsmodels\\tsa\\base\\tsa_model.py:473: ValueWarning: No frequency information was provided, so inferred frequency D will be used.\n",
      "  self._init_dates(dates, freq)\n",
      "c:\\Users\\gaya3\\Dolfin\\new\\Neo_Dolfin\\venv\\Lib\\site-packages\\statsmodels\\tsa\\base\\tsa_model.py:473: ValueWarning: No frequency information was provided, so inferred frequency D will be used.\n",
      "  self._init_dates(dates, freq)\n",
      "c:\\Users\\gaya3\\Dolfin\\new\\Neo_Dolfin\\venv\\Lib\\site-packages\\statsmodels\\tsa\\base\\tsa_model.py:473: ValueWarning: No frequency information was provided, so inferred frequency D will be used.\n",
      "  self._init_dates(dates, freq)\n"
     ]
    },
    {
     "name": "stdout",
     "output_type": "stream",
     "text": [
      "ARIMA(1, 0, 0)x(1, 0, 1, 12)12 - AIC:10267.660433387962\n"
     ]
    },
    {
     "name": "stderr",
     "output_type": "stream",
     "text": [
      "c:\\Users\\gaya3\\Dolfin\\new\\Neo_Dolfin\\venv\\Lib\\site-packages\\statsmodels\\tsa\\base\\tsa_model.py:473: ValueWarning: No frequency information was provided, so inferred frequency D will be used.\n",
      "  self._init_dates(dates, freq)\n",
      "c:\\Users\\gaya3\\Dolfin\\new\\Neo_Dolfin\\venv\\Lib\\site-packages\\statsmodels\\tsa\\base\\tsa_model.py:473: ValueWarning: No frequency information was provided, so inferred frequency D will be used.\n",
      "  self._init_dates(dates, freq)\n"
     ]
    },
    {
     "name": "stdout",
     "output_type": "stream",
     "text": [
      "ARIMA(1, 0, 0)x(1, 1, 0, 12)12 - AIC:10191.509290743514\n"
     ]
    },
    {
     "name": "stderr",
     "output_type": "stream",
     "text": [
      "c:\\Users\\gaya3\\Dolfin\\new\\Neo_Dolfin\\venv\\Lib\\site-packages\\statsmodels\\tsa\\base\\tsa_model.py:473: ValueWarning: No frequency information was provided, so inferred frequency D will be used.\n",
      "  self._init_dates(dates, freq)\n",
      "c:\\Users\\gaya3\\Dolfin\\new\\Neo_Dolfin\\venv\\Lib\\site-packages\\statsmodels\\tsa\\base\\tsa_model.py:473: ValueWarning: No frequency information was provided, so inferred frequency D will be used.\n",
      "  self._init_dates(dates, freq)\n"
     ]
    },
    {
     "name": "stdout",
     "output_type": "stream",
     "text": [
      "ARIMA(1, 0, 0)x(1, 1, 1, 12)12 - AIC:10071.039997121301\n",
      "ARIMA(1, 0, 1)x(0, 0, 0, 12)12 - AIC:10328.827557824861\n"
     ]
    },
    {
     "name": "stderr",
     "output_type": "stream",
     "text": [
      "c:\\Users\\gaya3\\Dolfin\\new\\Neo_Dolfin\\venv\\Lib\\site-packages\\statsmodels\\tsa\\base\\tsa_model.py:473: ValueWarning: No frequency information was provided, so inferred frequency D will be used.\n",
      "  self._init_dates(dates, freq)\n",
      "c:\\Users\\gaya3\\Dolfin\\new\\Neo_Dolfin\\venv\\Lib\\site-packages\\statsmodels\\tsa\\base\\tsa_model.py:473: ValueWarning: No frequency information was provided, so inferred frequency D will be used.\n",
      "  self._init_dates(dates, freq)\n",
      "c:\\Users\\gaya3\\Dolfin\\new\\Neo_Dolfin\\venv\\Lib\\site-packages\\statsmodels\\tsa\\base\\tsa_model.py:473: ValueWarning: No frequency information was provided, so inferred frequency D will be used.\n",
      "  self._init_dates(dates, freq)\n",
      "c:\\Users\\gaya3\\Dolfin\\new\\Neo_Dolfin\\venv\\Lib\\site-packages\\statsmodels\\tsa\\base\\tsa_model.py:473: ValueWarning: No frequency information was provided, so inferred frequency D will be used.\n",
      "  self._init_dates(dates, freq)\n"
     ]
    },
    {
     "name": "stdout",
     "output_type": "stream",
     "text": [
      "ARIMA(1, 0, 1)x(0, 0, 1, 12)12 - AIC:10135.206251661002\n",
      "ARIMA(1, 0, 1)x(0, 1, 0, 12)12 - AIC:10506.280735904995\n"
     ]
    },
    {
     "name": "stderr",
     "output_type": "stream",
     "text": [
      "c:\\Users\\gaya3\\Dolfin\\new\\Neo_Dolfin\\venv\\Lib\\site-packages\\statsmodels\\tsa\\base\\tsa_model.py:473: ValueWarning: No frequency information was provided, so inferred frequency D will be used.\n",
      "  self._init_dates(dates, freq)\n",
      "c:\\Users\\gaya3\\Dolfin\\new\\Neo_Dolfin\\venv\\Lib\\site-packages\\statsmodels\\tsa\\base\\tsa_model.py:473: ValueWarning: No frequency information was provided, so inferred frequency D will be used.\n",
      "  self._init_dates(dates, freq)\n",
      "c:\\Users\\gaya3\\Dolfin\\new\\Neo_Dolfin\\venv\\Lib\\site-packages\\statsmodels\\tsa\\base\\tsa_model.py:473: ValueWarning: No frequency information was provided, so inferred frequency D will be used.\n",
      "  self._init_dates(dates, freq)\n",
      "c:\\Users\\gaya3\\Dolfin\\new\\Neo_Dolfin\\venv\\Lib\\site-packages\\statsmodels\\tsa\\base\\tsa_model.py:473: ValueWarning: No frequency information was provided, so inferred frequency D will be used.\n",
      "  self._init_dates(dates, freq)\n"
     ]
    },
    {
     "name": "stdout",
     "output_type": "stream",
     "text": [
      "ARIMA(1, 0, 1)x(0, 1, 1, 12)12 - AIC:10041.25579023037\n",
      "ARIMA(1, 0, 1)x(1, 0, 0, 12)12 - AIC:10151.461557979332\n"
     ]
    },
    {
     "name": "stderr",
     "output_type": "stream",
     "text": [
      "c:\\Users\\gaya3\\Dolfin\\new\\Neo_Dolfin\\venv\\Lib\\site-packages\\statsmodels\\tsa\\base\\tsa_model.py:473: ValueWarning: No frequency information was provided, so inferred frequency D will be used.\n",
      "  self._init_dates(dates, freq)\n",
      "c:\\Users\\gaya3\\Dolfin\\new\\Neo_Dolfin\\venv\\Lib\\site-packages\\statsmodels\\tsa\\base\\tsa_model.py:473: ValueWarning: No frequency information was provided, so inferred frequency D will be used.\n",
      "  self._init_dates(dates, freq)\n",
      "c:\\Users\\gaya3\\Dolfin\\new\\Neo_Dolfin\\venv\\Lib\\site-packages\\statsmodels\\tsa\\base\\tsa_model.py:473: ValueWarning: No frequency information was provided, so inferred frequency D will be used.\n",
      "  self._init_dates(dates, freq)\n",
      "c:\\Users\\gaya3\\Dolfin\\new\\Neo_Dolfin\\venv\\Lib\\site-packages\\statsmodels\\tsa\\base\\tsa_model.py:473: ValueWarning: No frequency information was provided, so inferred frequency D will be used.\n",
      "  self._init_dates(dates, freq)\n"
     ]
    },
    {
     "name": "stdout",
     "output_type": "stream",
     "text": [
      "ARIMA(1, 0, 1)x(1, 0, 1, 12)12 - AIC:10136.574916199224\n"
     ]
    },
    {
     "name": "stderr",
     "output_type": "stream",
     "text": [
      "c:\\Users\\gaya3\\Dolfin\\new\\Neo_Dolfin\\venv\\Lib\\site-packages\\statsmodels\\tsa\\base\\tsa_model.py:473: ValueWarning: No frequency information was provided, so inferred frequency D will be used.\n",
      "  self._init_dates(dates, freq)\n",
      "c:\\Users\\gaya3\\Dolfin\\new\\Neo_Dolfin\\venv\\Lib\\site-packages\\statsmodels\\tsa\\base\\tsa_model.py:473: ValueWarning: No frequency information was provided, so inferred frequency D will be used.\n",
      "  self._init_dates(dates, freq)\n"
     ]
    },
    {
     "name": "stdout",
     "output_type": "stream",
     "text": [
      "ARIMA(1, 0, 1)x(1, 1, 0, 12)12 - AIC:10144.296739000436\n"
     ]
    },
    {
     "name": "stderr",
     "output_type": "stream",
     "text": [
      "c:\\Users\\gaya3\\Dolfin\\new\\Neo_Dolfin\\venv\\Lib\\site-packages\\statsmodels\\tsa\\base\\tsa_model.py:473: ValueWarning: No frequency information was provided, so inferred frequency D will be used.\n",
      "  self._init_dates(dates, freq)\n",
      "c:\\Users\\gaya3\\Dolfin\\new\\Neo_Dolfin\\venv\\Lib\\site-packages\\statsmodels\\tsa\\base\\tsa_model.py:473: ValueWarning: No frequency information was provided, so inferred frequency D will be used.\n",
      "  self._init_dates(dates, freq)\n"
     ]
    },
    {
     "name": "stdout",
     "output_type": "stream",
     "text": [
      "ARIMA(1, 0, 1)x(1, 1, 1, 12)12 - AIC:9951.847394687315\n",
      "ARIMA(1, 1, 0)x(0, 0, 0, 12)12 - AIC:10351.762921597618\n"
     ]
    },
    {
     "name": "stderr",
     "output_type": "stream",
     "text": [
      "c:\\Users\\gaya3\\Dolfin\\new\\Neo_Dolfin\\venv\\Lib\\site-packages\\statsmodels\\tsa\\base\\tsa_model.py:473: ValueWarning: No frequency information was provided, so inferred frequency D will be used.\n",
      "  self._init_dates(dates, freq)\n",
      "c:\\Users\\gaya3\\Dolfin\\new\\Neo_Dolfin\\venv\\Lib\\site-packages\\statsmodels\\tsa\\base\\tsa_model.py:473: ValueWarning: No frequency information was provided, so inferred frequency D will be used.\n",
      "  self._init_dates(dates, freq)\n",
      "c:\\Users\\gaya3\\Dolfin\\new\\Neo_Dolfin\\venv\\Lib\\site-packages\\statsmodels\\tsa\\base\\tsa_model.py:473: ValueWarning: No frequency information was provided, so inferred frequency D will be used.\n",
      "  self._init_dates(dates, freq)\n",
      "c:\\Users\\gaya3\\Dolfin\\new\\Neo_Dolfin\\venv\\Lib\\site-packages\\statsmodels\\tsa\\base\\tsa_model.py:473: ValueWarning: No frequency information was provided, so inferred frequency D will be used.\n",
      "  self._init_dates(dates, freq)\n"
     ]
    },
    {
     "name": "stdout",
     "output_type": "stream",
     "text": [
      "ARIMA(1, 1, 0)x(0, 0, 1, 12)12 - AIC:10158.379189210153\n",
      "ARIMA(1, 1, 0)x(0, 1, 0, 12)12 - AIC:10554.992677065013\n"
     ]
    },
    {
     "name": "stderr",
     "output_type": "stream",
     "text": [
      "c:\\Users\\gaya3\\Dolfin\\new\\Neo_Dolfin\\venv\\Lib\\site-packages\\statsmodels\\tsa\\base\\tsa_model.py:473: ValueWarning: No frequency information was provided, so inferred frequency D will be used.\n",
      "  self._init_dates(dates, freq)\n",
      "c:\\Users\\gaya3\\Dolfin\\new\\Neo_Dolfin\\venv\\Lib\\site-packages\\statsmodels\\tsa\\base\\tsa_model.py:473: ValueWarning: No frequency information was provided, so inferred frequency D will be used.\n",
      "  self._init_dates(dates, freq)\n",
      "c:\\Users\\gaya3\\Dolfin\\new\\Neo_Dolfin\\venv\\Lib\\site-packages\\statsmodels\\tsa\\base\\tsa_model.py:473: ValueWarning: No frequency information was provided, so inferred frequency D will be used.\n",
      "  self._init_dates(dates, freq)\n",
      "c:\\Users\\gaya3\\Dolfin\\new\\Neo_Dolfin\\venv\\Lib\\site-packages\\statsmodels\\tsa\\base\\tsa_model.py:473: ValueWarning: No frequency information was provided, so inferred frequency D will be used.\n",
      "  self._init_dates(dates, freq)\n"
     ]
    },
    {
     "name": "stdout",
     "output_type": "stream",
     "text": [
      "ARIMA(1, 1, 0)x(0, 1, 1, 12)12 - AIC:9968.754606370401\n",
      "ARIMA(1, 1, 0)x(1, 0, 0, 12)12 - AIC:10158.385064897557\n"
     ]
    },
    {
     "name": "stderr",
     "output_type": "stream",
     "text": [
      "c:\\Users\\gaya3\\Dolfin\\new\\Neo_Dolfin\\venv\\Lib\\site-packages\\statsmodels\\tsa\\base\\tsa_model.py:473: ValueWarning: No frequency information was provided, so inferred frequency D will be used.\n",
      "  self._init_dates(dates, freq)\n",
      "c:\\Users\\gaya3\\Dolfin\\new\\Neo_Dolfin\\venv\\Lib\\site-packages\\statsmodels\\tsa\\base\\tsa_model.py:473: ValueWarning: No frequency information was provided, so inferred frequency D will be used.\n",
      "  self._init_dates(dates, freq)\n",
      "c:\\Users\\gaya3\\Dolfin\\new\\Neo_Dolfin\\venv\\Lib\\site-packages\\statsmodels\\tsa\\base\\tsa_model.py:473: ValueWarning: No frequency information was provided, so inferred frequency D will be used.\n",
      "  self._init_dates(dates, freq)\n",
      "c:\\Users\\gaya3\\Dolfin\\new\\Neo_Dolfin\\venv\\Lib\\site-packages\\statsmodels\\tsa\\base\\tsa_model.py:473: ValueWarning: No frequency information was provided, so inferred frequency D will be used.\n",
      "  self._init_dates(dates, freq)\n"
     ]
    },
    {
     "name": "stdout",
     "output_type": "stream",
     "text": [
      "ARIMA(1, 1, 0)x(1, 0, 1, 12)12 - AIC:10159.54152348822\n"
     ]
    },
    {
     "name": "stderr",
     "output_type": "stream",
     "text": [
      "c:\\Users\\gaya3\\Dolfin\\new\\Neo_Dolfin\\venv\\Lib\\site-packages\\statsmodels\\tsa\\base\\tsa_model.py:473: ValueWarning: No frequency information was provided, so inferred frequency D will be used.\n",
      "  self._init_dates(dates, freq)\n",
      "c:\\Users\\gaya3\\Dolfin\\new\\Neo_Dolfin\\venv\\Lib\\site-packages\\statsmodels\\tsa\\base\\tsa_model.py:473: ValueWarning: No frequency information was provided, so inferred frequency D will be used.\n",
      "  self._init_dates(dates, freq)\n"
     ]
    },
    {
     "name": "stdout",
     "output_type": "stream",
     "text": [
      "ARIMA(1, 1, 0)x(1, 1, 0, 12)12 - AIC:10171.900640988655\n"
     ]
    },
    {
     "name": "stderr",
     "output_type": "stream",
     "text": [
      "c:\\Users\\gaya3\\Dolfin\\new\\Neo_Dolfin\\venv\\Lib\\site-packages\\statsmodels\\tsa\\base\\tsa_model.py:473: ValueWarning: No frequency information was provided, so inferred frequency D will be used.\n",
      "  self._init_dates(dates, freq)\n",
      "c:\\Users\\gaya3\\Dolfin\\new\\Neo_Dolfin\\venv\\Lib\\site-packages\\statsmodels\\tsa\\base\\tsa_model.py:473: ValueWarning: No frequency information was provided, so inferred frequency D will be used.\n",
      "  self._init_dates(dates, freq)\n"
     ]
    },
    {
     "name": "stdout",
     "output_type": "stream",
     "text": [
      "ARIMA(1, 1, 0)x(1, 1, 1, 12)12 - AIC:9970.340329867795\n",
      "ARIMA(1, 1, 1)x(0, 0, 0, 12)12 - AIC:10313.043989705817\n"
     ]
    },
    {
     "name": "stderr",
     "output_type": "stream",
     "text": [
      "c:\\Users\\gaya3\\Dolfin\\new\\Neo_Dolfin\\venv\\Lib\\site-packages\\statsmodels\\tsa\\base\\tsa_model.py:473: ValueWarning: No frequency information was provided, so inferred frequency D will be used.\n",
      "  self._init_dates(dates, freq)\n",
      "c:\\Users\\gaya3\\Dolfin\\new\\Neo_Dolfin\\venv\\Lib\\site-packages\\statsmodels\\tsa\\base\\tsa_model.py:473: ValueWarning: No frequency information was provided, so inferred frequency D will be used.\n",
      "  self._init_dates(dates, freq)\n",
      "c:\\Users\\gaya3\\Dolfin\\new\\Neo_Dolfin\\venv\\Lib\\site-packages\\statsmodels\\tsa\\base\\tsa_model.py:473: ValueWarning: No frequency information was provided, so inferred frequency D will be used.\n",
      "  self._init_dates(dates, freq)\n",
      "c:\\Users\\gaya3\\Dolfin\\new\\Neo_Dolfin\\venv\\Lib\\site-packages\\statsmodels\\tsa\\base\\tsa_model.py:473: ValueWarning: No frequency information was provided, so inferred frequency D will be used.\n",
      "  self._init_dates(dates, freq)\n"
     ]
    },
    {
     "name": "stdout",
     "output_type": "stream",
     "text": [
      "ARIMA(1, 1, 1)x(0, 0, 1, 12)12 - AIC:10119.656324181338\n"
     ]
    },
    {
     "name": "stderr",
     "output_type": "stream",
     "text": [
      "c:\\Users\\gaya3\\Dolfin\\new\\Neo_Dolfin\\venv\\Lib\\site-packages\\statsmodels\\tsa\\base\\tsa_model.py:473: ValueWarning: No frequency information was provided, so inferred frequency D will be used.\n",
      "  self._init_dates(dates, freq)\n",
      "c:\\Users\\gaya3\\Dolfin\\new\\Neo_Dolfin\\venv\\Lib\\site-packages\\statsmodels\\tsa\\base\\tsa_model.py:473: ValueWarning: No frequency information was provided, so inferred frequency D will be used.\n",
      "  self._init_dates(dates, freq)\n"
     ]
    },
    {
     "name": "stdout",
     "output_type": "stream",
     "text": [
      "ARIMA(1, 1, 1)x(0, 1, 0, 12)12 - AIC:10523.671299039292\n"
     ]
    },
    {
     "name": "stderr",
     "output_type": "stream",
     "text": [
      "c:\\Users\\gaya3\\Dolfin\\new\\Neo_Dolfin\\venv\\Lib\\site-packages\\statsmodels\\tsa\\base\\tsa_model.py:473: ValueWarning: No frequency information was provided, so inferred frequency D will be used.\n",
      "  self._init_dates(dates, freq)\n",
      "c:\\Users\\gaya3\\Dolfin\\new\\Neo_Dolfin\\venv\\Lib\\site-packages\\statsmodels\\tsa\\base\\tsa_model.py:473: ValueWarning: No frequency information was provided, so inferred frequency D will be used.\n",
      "  self._init_dates(dates, freq)\n"
     ]
    },
    {
     "name": "stdout",
     "output_type": "stream",
     "text": [
      "ARIMA(1, 1, 1)x(0, 1, 1, 12)12 - AIC:9932.285093088321\n",
      "ARIMA(1, 1, 1)x(1, 0, 0, 12)12 - AIC:10135.895395989875\n"
     ]
    },
    {
     "name": "stderr",
     "output_type": "stream",
     "text": [
      "c:\\Users\\gaya3\\Dolfin\\new\\Neo_Dolfin\\venv\\Lib\\site-packages\\statsmodels\\tsa\\base\\tsa_model.py:473: ValueWarning: No frequency information was provided, so inferred frequency D will be used.\n",
      "  self._init_dates(dates, freq)\n",
      "c:\\Users\\gaya3\\Dolfin\\new\\Neo_Dolfin\\venv\\Lib\\site-packages\\statsmodels\\tsa\\base\\tsa_model.py:473: ValueWarning: No frequency information was provided, so inferred frequency D will be used.\n",
      "  self._init_dates(dates, freq)\n",
      "c:\\Users\\gaya3\\Dolfin\\new\\Neo_Dolfin\\venv\\Lib\\site-packages\\statsmodels\\tsa\\base\\tsa_model.py:473: ValueWarning: No frequency information was provided, so inferred frequency D will be used.\n",
      "  self._init_dates(dates, freq)\n",
      "c:\\Users\\gaya3\\Dolfin\\new\\Neo_Dolfin\\venv\\Lib\\site-packages\\statsmodels\\tsa\\base\\tsa_model.py:473: ValueWarning: No frequency information was provided, so inferred frequency D will be used.\n",
      "  self._init_dates(dates, freq)\n"
     ]
    },
    {
     "name": "stdout",
     "output_type": "stream",
     "text": [
      "ARIMA(1, 1, 1)x(1, 0, 1, 12)12 - AIC:10121.019818711638\n"
     ]
    },
    {
     "name": "stderr",
     "output_type": "stream",
     "text": [
      "c:\\Users\\gaya3\\Dolfin\\new\\Neo_Dolfin\\venv\\Lib\\site-packages\\statsmodels\\tsa\\base\\tsa_model.py:473: ValueWarning: No frequency information was provided, so inferred frequency D will be used.\n",
      "  self._init_dates(dates, freq)\n",
      "c:\\Users\\gaya3\\Dolfin\\new\\Neo_Dolfin\\venv\\Lib\\site-packages\\statsmodels\\tsa\\base\\tsa_model.py:473: ValueWarning: No frequency information was provided, so inferred frequency D will be used.\n",
      "  self._init_dates(dates, freq)\n"
     ]
    },
    {
     "name": "stdout",
     "output_type": "stream",
     "text": [
      "ARIMA(1, 1, 1)x(1, 1, 0, 12)12 - AIC:10154.156136364994\n"
     ]
    },
    {
     "name": "stderr",
     "output_type": "stream",
     "text": [
      "c:\\Users\\gaya3\\Dolfin\\new\\Neo_Dolfin\\venv\\Lib\\site-packages\\statsmodels\\tsa\\base\\tsa_model.py:473: ValueWarning: No frequency information was provided, so inferred frequency D will be used.\n",
      "  self._init_dates(dates, freq)\n",
      "c:\\Users\\gaya3\\Dolfin\\new\\Neo_Dolfin\\venv\\Lib\\site-packages\\statsmodels\\tsa\\base\\tsa_model.py:473: ValueWarning: No frequency information was provided, so inferred frequency D will be used.\n",
      "  self._init_dates(dates, freq)\n"
     ]
    },
    {
     "name": "stdout",
     "output_type": "stream",
     "text": [
      "ARIMA(1, 1, 1)x(1, 1, 1, 12)12 - AIC:9933.230103389062\n"
     ]
    }
   ],
   "source": [
    "import statsmodels.api as sm\n",
    "\n",
    "\n",
    "for param in pdq:\n",
    "    for param_seasonal in seasonal_pdq:\n",
    "        mod = sm.tsa.statespace.SARIMAX(df,\n",
    "                                            order=param,\n",
    "                                            seasonal_order=param_seasonal,\n",
    "                                            enforce_stationarity=False,\n",
    "                                            enforce_invertibility=False)\n",
    "\n",
    "        results = mod.fit()\n",
    "\n",
    "        print('ARIMA{}x{}12 - AIC:{}'.format(param, param_seasonal, results.aic))       "
   ]
  },
  {
   "cell_type": "code",
   "execution_count": 25,
   "metadata": {},
   "outputs": [
    {
     "name": "stderr",
     "output_type": "stream",
     "text": [
      "c:\\Users\\gaya3\\Dolfin\\new\\Neo_Dolfin\\venv\\Lib\\site-packages\\statsmodels\\tsa\\base\\tsa_model.py:473: ValueWarning: No frequency information was provided, so inferred frequency D will be used.\n",
      "  self._init_dates(dates, freq)\n",
      "c:\\Users\\gaya3\\Dolfin\\new\\Neo_Dolfin\\venv\\Lib\\site-packages\\statsmodels\\tsa\\base\\tsa_model.py:473: ValueWarning: No frequency information was provided, so inferred frequency D will be used.\n",
      "  self._init_dates(dates, freq)\n"
     ]
    },
    {
     "name": "stdout",
     "output_type": "stream",
     "text": [
      "==============================================================================\n",
      "                 coef    std err          z      P>|z|      [0.025      0.975]\n",
      "------------------------------------------------------------------------------\n",
      "ma.L1         -0.4775      0.081     -5.926      0.000      -0.635      -0.320\n",
      "ar.S.L12      -0.0825      0.073     -1.128      0.259      -0.226       0.061\n",
      "ma.S.L12      -1.0285      0.074    -13.969      0.000      -1.173      -0.884\n",
      "sigma2      1.603e+06   1.58e+05     10.178      0.000    1.29e+06    1.91e+06\n",
      "==============================================================================\n"
     ]
    }
   ],
   "source": [
    "mod = sm.tsa.statespace.SARIMAX(train_data,\n",
    "                                order=(0, 1, 1),\n",
    "                                seasonal_order=(1, 1, 1, 12),\n",
    "                                enforce_stationarity=False,\n",
    "                                enforce_invertibility=False)\n",
    "\n",
    "results = mod.fit()\n",
    "\n",
    "print(results.summary().tables[1])"
   ]
  },
  {
   "cell_type": "code",
   "execution_count": 35,
   "metadata": {},
   "outputs": [
    {
     "name": "stdout",
     "output_type": "stream",
     "text": [
      "2023-03-16\n",
      "2024-03-10\n"
     ]
    }
   ],
   "source": [
    "import datetime\n",
    "current = datetime.date.today() \n",
    "start= current - datetime.timedelta(days=180)\n",
    "end = current + datetime.timedelta(days=180)\n",
    "print(start)\n",
    "print(end)"
   ]
  },
  {
   "cell_type": "code",
   "execution_count": 36,
   "metadata": {},
   "outputs": [
    {
     "name": "stdout",
     "output_type": "stream",
     "text": [
      "            lower balance  upper balance\n",
      "2023-03-16    3323.239657    8445.282203\n",
      "2023-03-17    2939.217899    8061.259857\n",
      "2023-03-18    1637.882244    6759.924068\n",
      "2023-03-19    1333.466199    6455.507993\n",
      "2023-03-20     845.315223    5967.357010\n",
      "...                   ...            ...\n",
      "2024-03-06  -22922.211475   43421.109094\n",
      "2024-03-07  -23256.717625   43247.409183\n",
      "2024-03-08  -23088.131980   43576.725159\n",
      "2024-03-09  -23151.570931   43673.631178\n",
      "2024-03-10  -23133.617898   43851.545596\n",
      "\n",
      "[361 rows x 2 columns]\n",
      "2023-03-16     5884.260930\n",
      "2023-03-17     5500.238878\n",
      "2023-03-18     4198.903156\n",
      "2023-03-19     3894.487096\n",
      "2023-03-20     3406.336117\n",
      "                  ...     \n",
      "2024-03-06    10249.448810\n",
      "2024-03-07     9995.345779\n",
      "2024-03-08    10244.296589\n",
      "2024-03-09    10261.030123\n",
      "2024-03-10    10358.963849\n",
      "Freq: D, Name: predicted_mean, Length: 361, dtype: float64\n"
     ]
    }
   ],
   "source": [
    "pred = results.get_prediction(start=pd.to_datetime(start), end=pd.to_datetime(end),dynamic=False)\n",
    "pred_ci = pred.conf_int()\n",
    "print(pred_ci)\n",
    "print(pred.predicted_mean)"
   ]
  },
  {
   "cell_type": "code",
   "execution_count": 39,
   "metadata": {},
   "outputs": [
    {
     "data": {
      "image/png": "[encoded data removed]",
      "text/plain": [
       "<Figure size 640x480 with 1 Axes>"
      ]
     },
     "metadata": {},
     "output_type": "display_data"
    }
   ],
   "source": [
    "pred.predicted_mean.plot( label='One-step ahead Forecast', alpha=.7)\n",
    "\n",
    "plt.legend()\n",
    "\n",
    "plt.show()"
   ]
  },
  {
   "cell_type": "code",
   "execution_count": 50,
   "metadata": {},
   "outputs": [
    {
     "name": "stdout",
     "output_type": "stream",
     "text": [
      "The Mean Squared Error of our forecasts is 2023-03-07 00:00:00   NaN\n",
      "2023-03-08 00:00:00   NaN\n",
      "2023-03-09 00:00:00   NaN\n",
      "2023-03-10 00:00:00   NaN\n",
      "2023-03-11 00:00:00   NaN\n",
      "2023-03-12 00:00:00   NaN\n",
      "2023-03-13 00:00:00   NaN\n",
      "2023-03-14 00:00:00   NaN\n",
      "2023-03-15 00:00:00   NaN\n",
      "2023-03-16 00:00:00   NaN\n",
      "2023-03-17 00:00:00   NaN\n",
      "2023-03-18 00:00:00   NaN\n",
      "2023-03-19 00:00:00   NaN\n",
      "2023-03-20 00:00:00   NaN\n",
      "2023-03-21 00:00:00   NaN\n",
      "2023-03-22 00:00:00   NaN\n",
      "2023-03-23 00:00:00   NaN\n",
      "2023-03-24 00:00:00   NaN\n",
      "2023-03-25 00:00:00   NaN\n",
      "2023-03-26 00:00:00   NaN\n",
      "2023-03-27 00:00:00   NaN\n",
      "2023-03-28 00:00:00   NaN\n",
      "2023-03-29 00:00:00   NaN\n",
      "2023-03-30 00:00:00   NaN\n",
      "2023-03-31 00:00:00   NaN\n",
      "2023-04-01 00:00:00   NaN\n",
      "2023-04-02 00:00:00   NaN\n",
      "2023-04-03 00:00:00   NaN\n",
      "2023-04-04 00:00:00   NaN\n",
      "balance               NaN\n",
      "dtype: float64\n"
     ]
    }
   ],
   "source": [
    "df_forecasted = pred.predicted_mean\n",
    "df_truth = df['2023-03-07':]\n",
    "\n",
    "# Compute the mean square error\n",
    "mse = ((df_forecasted - df_truth) ** 2).mean()\n",
    "print('The Mean Squared Error of our forecasts is {}'.format(round(mse, 2)))"
   ]
  },
  {
   "cell_type": "code",
   "execution_count": 233,
   "metadata": {},
   "outputs": [],
   "source": [
    "# Define the number of months to forecast ahead\n",
    "forecast_months = 365\n",
    "forecast = model_fit.forecast(forecast_months)\n",
    "\n",
    "# Create an index for the forecasted days\n",
    "forecast_index = pd.date_range(start=df.index[0], periods=forecast_months, freq='D')"
   ]
  },
  {
   "cell_type": "code",
   "execution_count": 234,
   "metadata": {},
   "outputs": [
    {
     "name": "stdout",
     "output_type": "stream",
     "text": [
      "Forecasted Balances for the Next 12 Months:\n",
      "2023-04-05     6504.802265\n",
      "2023-04-06     6518.691245\n",
      "2023-04-07     6532.580225\n",
      "2023-04-08     6546.469205\n",
      "2023-04-09     6560.358185\n",
      "                  ...     \n",
      "2024-03-30    11504.835065\n",
      "2024-03-31    11518.724045\n",
      "2024-04-01    11532.613025\n",
      "2024-04-02    11546.502005\n",
      "2024-04-03    11560.390985\n",
      "Freq: D, Name: predicted_mean, Length: 365, dtype: float64\n"
     ]
    }
   ],
   "source": [
    "print(\"Forecasted Balances for the Next 12 Months:\")\n",
    "print(forecast)\n"
   ]
  },
  {
   "cell_type": "code",
   "execution_count": 235,
   "metadata": {},
   "outputs": [
    {
     "name": "stdout",
     "output_type": "stream",
     "text": [
      "                Forecast   Lower Bound   Upper Bound\n",
      "2023-04-05   6504.802265   6354.670488   6654.934041\n",
      "2023-04-06   6518.691245   6368.559468   6668.823021\n",
      "2023-04-07   6532.580225   6382.448448   6682.712001\n",
      "2023-04-08   6546.469205   6396.337428   6696.600981\n",
      "2023-04-09   6560.358185   6410.226408   6710.489961\n",
      "...                  ...           ...           ...\n",
      "2024-03-30  11504.835065  11354.703289  11654.966841\n",
      "2024-03-31  11518.724045  11368.592269  11668.855821\n",
      "2024-04-01  11532.613025  11382.481249  11682.744801\n",
      "2024-04-02  11546.502005  11396.370229  11696.633781\n",
      "2024-04-03  11560.390985  11410.259209  11710.522761\n",
      "\n",
      "[365 rows x 3 columns]\n",
      "76.59925254728597\n"
     ]
    }
   ],
   "source": [
    "# Define the desired confidence level (e.g., 95%)\n",
    "confidence_level = 0.95\n",
    "\n",
    "# Calculate the z-score for the desired confidence level\n",
    "z_score = norm.ppf((1 + confidence_level) / 2)\n",
    "\n",
    "# Calculate the standard error of the mean (assuming normal distribution)\n",
    "std_error = np.std(forecast) / np.sqrt(len(forecast))\n",
    "\n",
    "# Calculate the margin of error\n",
    "margin_of_error = z_score * std_error\n",
    "\n",
    "# Calculate the lower and upper bounds for the confidence intervals\n",
    "lower_bound = forecast - margin_of_error\n",
    "upper_bound = forecast + margin_of_error\n",
    "\n",
    "# Create a DataFrame with the forecasted values and their confidence intervals\n",
    "forecast_df = pd.DataFrame({'Forecast': forecast, 'Lower Bound': lower_bound, 'Upper Bound': upper_bound})\n",
    "\n",
    "# Print the DataFrame\n",
    "print(forecast_df)\n",
    "#inserted\n",
    "print(std_error)"
   ]
  },
  {
   "cell_type": "code",
   "execution_count": 236,
   "metadata": {},
   "outputs": [
    {
     "data": {
      "image/png": "[encoded data removed]",
      "text/plain": [
       "<Figure size 1200x600 with 1 Axes>"
      ]
     },
     "metadata": {},
     "output_type": "display_data"
    }
   ],
   "source": [
    "plt.figure(figsize=(12, 6))\n",
    "plt.plot(forecast_df, label='Forecasted Balances')\n",
    "plt.xlabel('Date')\n",
    "plt.ylabel('Balance')\n",
    "plt.fill_between(forecast_df.index, forecast_df['Lower Bound'], forecast_df['Upper Bound'], alpha=0.2, color='b')\n",
    "plt.title('Forecasted Balances for the Next 12 Months')\n",
    "plt.legend(['AVG predicted balance','Lower Bound','Upper bound'])\n",
    "plt.grid(True)\n",
    "plt.show()"
   ]
  }
 ],
 "metadata": {
  "kernelspec": {
   "display_name": "base",
   "language": "python",
   "name": "python3"
  },
  "language_info": {
   "codemirror_mode": {
    "name": "ipython",
    "version": 3
   },
   "file_extension": ".py",
   "mimetype": "text/x-python",
   "name": "python",
   "nbconvert_exporter": "python",
   "pygments_lexer": "ipython3",
   "version": "3.11.5"
  },
  "orig_nbformat": 4
 },
 "nbformat": 4,
 "nbformat_minor": 2
}
