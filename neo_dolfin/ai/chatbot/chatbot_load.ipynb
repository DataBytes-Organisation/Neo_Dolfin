{
 "cells": [
  {
   "cell_type": "code",
   "execution_count": null,
   "metadata": {
    "colab": {
     "base_uri": "https://localhost:8080/",
     "height": 554
    },
    "id": "AjIvbqgEO1O7",
    "outputId": "12e8d350-27c0-491f-efa8-62ee79d75c16"
   },
   "outputs": [
    {
     "name": "stderr",
     "output_type": "stream",
     "text": [
      "2023-12-11 13:49:21.255033: I tensorflow/tsl/cuda/cudart_stub.cc:28] Could not find cuda drivers on your machine, GPU will not be used.\n",
      "2023-12-11 13:49:21.427285: I tensorflow/tsl/cuda/cudart_stub.cc:28] Could not find cuda drivers on your machine, GPU will not be used.\n",
      "2023-12-11 13:49:21.427846: I tensorflow/core/platform/cpu_feature_guard.cc:182] This TensorFlow binary is optimized to use available CPU instructions in performance-critical operations.\n",
      "To enable the following instructions: AVX2 FMA, in other operations, rebuild TensorFlow with the appropriate compiler flags.\n",
      "2023-12-11 13:49:22.231673: W tensorflow/compiler/tf2tensorrt/utils/py_utils.cc:38] TF-TRT Warning: Could not find TensorRT\n",
      "2023-12-11 13:49:24.844214: I tensorflow/compiler/xla/stream_executor/cuda/cuda_gpu_executor.cc:995] successful NUMA node read from SysFS had negative value (-1), but there must be at least one NUMA node, so returning NUMA node zero. See more at https://github.com/torvalds/linux/blob/v6.0/Documentation/ABI/testing/sysfs-bus-pci#L344-L355\n",
      "2023-12-11 13:49:24.845389: W tensorflow/core/common_runtime/gpu/gpu_device.cc:1960] Cannot dlopen some GPU libraries. Please make sure the missing libraries mentioned above are installed properly if you would like to use GPU. Follow the guide at https://www.tensorflow.org/install/gpu for how to download and setup the required libraries for your platform.\n",
      "Skipping registering GPU devices...\n"
     ]
    },
    {
     "name": "stdout",
     "output_type": "stream",
     "text": [
      "Chatbot live. Say or type 'end' to stop the conversation.\n",
      "How would you like to communicate with the bot?\n",
      "1. Type\n",
      "2. Speak\n"
     ]
    },
    {
     "name": "stdin",
     "output_type": "stream",
     "text": [
      "Enter the number associated with your preferred method:  1\n",
      "You:  stupid bot\n"
     ]
    },
    {
     "name": "stdout",
     "output_type": "stream",
     "text": [
      "You said:  stupid bot\n",
      "1/1 [==============================] - 0s 52ms/step\n",
      "Sentiment: negative\n",
      "Positive: 0.0%\n",
      "Negative: 100.0%\n",
      "Neutral: 0.0%\n",
      "Storing negative conversation for review.\n",
      "Bot: Hi there! How can I help you?\n",
      "How would you like to communicate with the bot?\n",
      "1. Type\n",
      "2. Speak\n"
     ]
    },
    {
     "name": "stdin",
     "output_type": "stream",
     "text": [
      "Enter the number associated with your preferred method:  1\n",
      "You:  stupid bot you are amazing\n"
     ]
    },
    {
     "name": "stdout",
     "output_type": "stream",
     "text": [
      "You said:  stupid bot you are amazing\n",
      "1/1 [==============================] - 0s 10ms/step\n",
      "Sentiment: negative\n",
      "Positive: 0.0%\n",
      "Negative: 100.0%\n",
      "Neutral: 0.0%\n",
      "Storing negative conversation for review.\n",
      "Bot: You're welcome!\n",
      "How would you like to communicate with the bot?\n",
      "1. Type\n",
      "2. Speak\n"
     ]
    },
    {
     "name": "stdin",
     "output_type": "stream",
     "text": [
      "Enter the number associated with your preferred method:  1\n",
      "You:  amazing bot\n"
     ]
    },
    {
     "name": "stdout",
     "output_type": "stream",
     "text": [
      "You said:  amazing bot\n",
      "1/1 [==============================] - 0s 10ms/step\n",
      "Sentiment: positive\n",
      "Positive: 33.33333333333333%\n",
      "Negative: 66.66666666666666%\n",
      "Neutral: 0.0%\n",
      "Bot: Hi there! How can I help you?\n",
      "How would you like to communicate with the bot?\n",
      "1. Type\n",
      "2. Speak\n"
     ]
    },
    {
     "name": "stdin",
     "output_type": "stream",
     "text": [
      "Enter the number associated with your preferred method:  1\n",
      "You:  thank you good bot\n"
     ]
    },
    {
     "name": "stdout",
     "output_type": "stream",
     "text": [
      "You said:  thank you good bot\n",
      "1/1 [==============================] - 0s 9ms/step\n",
      "Sentiment: positive\n",
      "Positive: 50.0%\n",
      "Negative: 50.0%\n",
      "Neutral: 0.0%\n",
      "Bot: Glad to help!\n",
      "How would you like to communicate with the bot?\n",
      "1. Type\n",
      "2. Speak\n"
     ]
    },
    {
     "name": "stdin",
     "output_type": "stream",
     "text": [
      "Enter the number associated with your preferred method:  1\n",
      "You:  thank you \n"
     ]
    },
    {
     "name": "stdout",
     "output_type": "stream",
     "text": [
      "You said:  thank you \n",
      "1/1 [==============================] - 0s 10ms/step\n",
      "Sentiment: neutral\n",
      "Positive: 40.0%\n",
      "Negative: 40.0%\n",
      "Neutral: 20.0%\n",
      "Bot: Glad to help!\n",
      "How would you like to communicate with the bot?\n",
      "1. Type\n",
      "2. Speak\n"
     ]
    },
    {
     "name": "stdin",
     "output_type": "stream",
     "text": [
      "Enter the number associated with your preferred method:  1\n",
      "You:  I love you\n"
     ]
    },
    {
     "name": "stdout",
     "output_type": "stream",
     "text": [
      "You said:  I love you\n",
      "1/1 [==============================] - 0s 9ms/step\n",
      "Sentiment: positive\n",
      "Positive: 50.0%\n",
      "Negative: 33.33333333333333%\n",
      "Neutral: 16.666666666666664%\n",
      "Bot: No problem!\n",
      "How would you like to communicate with the bot?\n",
      "1. Type\n",
      "2. Speak\n"
     ]
    },
    {
     "name": "stdin",
     "output_type": "stream",
     "text": [
      "Enter the number associated with your preferred method:  1\n",
      "You:  stupid bot\n"
     ]
    },
    {
     "name": "stdout",
     "output_type": "stream",
     "text": [
      "You said:  stupid bot\n",
      "1/1 [==============================] - 0s 10ms/step\n",
      "Sentiment: negative\n",
      "Positive: 42.857142857142854%\n",
      "Negative: 42.857142857142854%\n",
      "Neutral: 14.285714285714285%\n",
      "Bot: Hello!\n",
      "How would you like to communicate with the bot?\n",
      "1. Type\n",
      "2. Speak\n"
     ]
    }
   ],
   "source": [
    "# CODE FOR LOADING SAVED CHATBOT\n",
    "# import libraries\n",
    "import random\n",
    "import json\n",
    "import pickle\n",
    "import numpy as np\n",
    "import nltk\n",
    "import speech_recognition as sr\n",
    "from keras.models import load_model\n",
    "from nltk.stem import WordNetLemmatizer\n",
    "from textblob import TextBlob\n",
    "\n",
    "\n",
    "# load intents and saved model output files\n",
    "lemmatizer = WordNetLemmatizer()\n",
    "intents = json.loads(open(\"intents.json\").read())\n",
    "words = pickle.load(open('words.pkl', 'rb'))\n",
    "labels = pickle.load(open('labels.pkl', 'rb'))\n",
    "model = load_model('chatbotmodel.h5')\n",
    "\n",
    "# separate input words from input sentence\n",
    "def clean_up_sentences(sentence):\n",
    "\tsentence_words = nltk.word_tokenize(sentence)\n",
    "\tsentence_words = [lemmatizer.lemmatize(word) for word in sentence_words]\n",
    "\treturn sentence_words\n",
    "\n",
    "# determine if input words in saved model words list\n",
    "def bagw(sentence):\n",
    "\tsentence_words = clean_up_sentences(sentence)\n",
    "\tbag = [0]*len(words)\n",
    "\tfor w in sentence_words:\n",
    "\t\tfor i, word in enumerate(words):\n",
    "\t\t\tif word == w:\n",
    "\t\t\t\tbag[i] = 1\n",
    "\treturn np.array(bag)\n",
    "\n",
    "# predict label of sentence based on input words\n",
    "# update: leveraging list comprehensions and dictionaries to work with confidence scores\n",
    "def predict_class(sentence):\n",
    "    bow = bagw(sentence)\n",
    "    res = model.predict(np.array([bow]))[0]\n",
    "    ERROR_THRESHOLD = 0.25\n",
    "    results = [{'intent': labels[i], 'probability': str(res[i])}\n",
    "               for i in range(len(res)) if res[i] > ERROR_THRESHOLD]\n",
    "    results.sort(key=lambda x: x['probability'], reverse=True)\n",
    "    return results\n",
    "\n",
    "# print random response from appropriate responses for label\n",
    "# if predicted intent has a low confidence score, gives a secondary response\n",
    "def get_response(intents_list, intents_json):\n",
    "    tag = intents_list[0]['intent']\n",
    "    probability = float(intents_list[0]['probability'])\n",
    "    list_of_intents = intents_json['intents']\n",
    "    result = \"\"\n",
    "    if probability < 0.2:  # Adjust the threshold as needed\n",
    "        result = \"I'm sorry, but I'm not sure how to help with that. Could you please provide more information?\"\n",
    "    else:\n",
    "        for i in list_of_intents:\n",
    "            if i['tag'] == tag:\n",
    "                result = random.choice(i['responses'])\n",
    "                break\n",
    "    return result\n",
    "\n",
    "# Capture the user's speech input\n",
    "def listen_to_user():\n",
    "    r = sr.Recognizer()\n",
    "    with sr.Microphone() as source:\n",
    "        print(\"Listening...\")\n",
    "        try:\n",
    "            audio = r.listen(source, timeout=10, phrase_time_limit=10)\n",
    "            voice_input = r.recognize_google(audio)\n",
    "            print(\"You said: {}\".format(voice_input))\n",
    "            return voice_input\n",
    "        except sr.WaitTimeoutError:\n",
    "            print(\"No command received in 10 seconds.\")\n",
    "            return \"\"\n",
    "        except sr.UnknownValueError:\n",
    "            print(\"Sorry, I didn't get that. Could you say it again?\")\n",
    "            return listen_to_user()\n",
    "        except sr.RequestError:\n",
    "            print(\"Sorry, my speech service is down. Please try again later.\")\n",
    "            return \"\"\n",
    "        \n",
    "# Initialize a variable to store the last bot reply\n",
    "last_bot_reply = \"\"\n",
    "\n",
    "# Initialize counts and list to store negative conversations\n",
    "positive_count = 0\n",
    "negative_count = 0\n",
    "neutral_count = 0\n",
    "total_count = 0\n",
    "negative_conversations = []\n",
    "\n",
    "# Determine sentiment of user's reply\n",
    "def determine_sentiment(message):\n",
    "    global positive_count, negative_count, neutral_count, total_count\n",
    "    analysis = TextBlob(message)\n",
    "    total_count += 1\n",
    "    sentiment = \"neutral\"\n",
    "    \n",
    "    if analysis.sentiment.polarity > 0:\n",
    "        positive_count += 1\n",
    "        sentiment = 'positive'\n",
    "    elif analysis.sentiment.polarity < 0:\n",
    "        negative_count += 1\n",
    "        sentiment = 'negative'\n",
    "    else:\n",
    "        neutral_count += 1\n",
    "    \n",
    "    return sentiment\n",
    "\n",
    "\n",
    "# Determine user input method\n",
    "def chat_input_method():\n",
    "    print(\"How would you like to communicate with the bot?\")\n",
    "    print(\"1. Type\\n2. Speak\")\n",
    "    method = input(\"Enter the number associated with your preferred method: \")\n",
    "    \n",
    "    if method == \"1\":\n",
    "        user_input = input(\"You: \")\n",
    "        print(\"You said: \", user_input)\n",
    "        return user_input\n",
    "    elif method == \"2\":\n",
    "        return listen_to_user()\n",
    "    else:\n",
    "        print(\"Invalid input. Please enter 1 for Typing or 2 for Speaking.\")\n",
    "        return chat_input_method()\n",
    "\n",
    "# create an infinite loop that prompts for input\n",
    "print(\"Chatbot live. Say or type 'end' to stop the conversation.\")\n",
    "while True:\n",
    "    message = chat_input_method()\n",
    "    if message.lower() == \"end\":\n",
    "        print(\"Bot: Goodbye! Have a nice day!\")\n",
    "        break\n",
    "    elif message != \"\":\n",
    "        ints = predict_class(message)\n",
    "        res = get_response(ints, intents)\n",
    "\n",
    "        sentiment = determine_sentiment(message)\n",
    "        print(f\"Sentiment: {sentiment}\")\n",
    "        # Calculate sentiment percentages\n",
    "        if total_count > 0:\n",
    "            print(f\"Positive: {(positive_count/total_count)*100}%\")\n",
    "            print(f\"Negative: {(negative_count/total_count)*100}%\")\n",
    "            print(f\"Neutral: {(neutral_count/total_count)*100}%\")\n",
    "        \n",
    "        if sentiment == 'negative' and (negative_count/total_count)*100 >= 50:\n",
    "            print(\"Storing negative conversation for review.\")\n",
    "            with open('negative_conversations.txt', 'a') as f:\n",
    "                f.write(f\"Bot: {last_bot_reply}\\n\")\n",
    "                f.write(f\"User: {message}\\n\")\n",
    "                f.write(\"---\\n\")\n",
    "\n",
    "        # Overwrite the last_bot_reply with the current response of the bot\n",
    "        last_bot_reply = res\n",
    "\n",
    "\n",
    "        if res.startswith(\"I'm sorry\"):\n",
    "            print(\"Bot:\", res)\n",
    "        else:\n",
    "            print(\"Bot:\", res)\n"
   ]
  }
 ],
 "metadata": {
  "colab": {
   "provenance": []
  },
  "kernelspec": {
   "display_name": "Python 3 (ipykernel)",
   "language": "python",
   "name": "python3"
  },
  "language_info": {
   "codemirror_mode": {
    "name": "ipython",
    "version": 3
   },
   "file_extension": ".py",
   "mimetype": "text/x-python",
   "name": "python",
   "nbconvert_exporter": "python",
   "pygments_lexer": "ipython3",
   "version": "3.11.5"
  }
 },
 "nbformat": 4,
 "nbformat_minor": 4
}
